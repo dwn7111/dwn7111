{
 "cells": [
  {
   "cell_type": "code",
   "execution_count": 7,
   "metadata": {},
   "outputs": [
    {
     "name": "stdout",
     "output_type": "stream",
     "text": [
      "-0.8598010407592446\n"
     ]
    }
   ],
   "source": [
    "import numpy as np\n",
    "#================Defining variables in our formula======\n",
    "a = 0\n",
    "b = np.pi/2 \n",
    "x = np.arange(a+0.000001,b,0.0001)  #if we do not make this addition to 'a' our answer comes as NaN\n",
    "dx = abs(b - a)\n",
    "N = len(x)\n",
    "h = (a-b)/N\n",
    "\n",
    "e = np.pi/2\n",
    "\n",
    "k = np.sin(e/2)\n",
    "f =  2/np.pi*np.sqrt(1-((k*np.sin(x))*(k*np.sin(x))))\n",
    "#================\n",
    "#initial value of the integral \n",
    "I = 0.0\n",
    "for i in range(1, N-1, 2):\n",
    "    I = float(I + (h / 3.0)*(f[i-1] + 4.0*f[i] + f[i+1]))\n",
    "if (N%2)==0:\n",
    "    I = I + h * (5.0*f[-1] + 8.0*f[-2] - f[N-2])/12.0 \n",
    "    \n",
    "print(float(I))"
   ]
  },
  {
   "cell_type": "code",
   "execution_count": 15,
   "metadata": {},
   "outputs": [
    {
     "data": {
      "text/plain": [
       "[<matplotlib.lines.Line2D at 0x28226985da0>]"
      ]
     },
     "execution_count": 15,
     "metadata": {},
     "output_type": "execute_result"
    },
    {
     "data": {
      "image/png": "[encoded data removed]",
      "text/plain": [
       "<matplotlib.figure.Figure at 0x28225651518>"
      ]
     },
     "metadata": {},
     "output_type": "display_data"
    }
   ],
   "source": [
    "import numpy as np\n",
    "import matplotlib.pyplot as plt\n",
    "%matplotlib inline\n",
    "a = 0\n",
    "b = np.pi/2 \n",
    "x = np.arange(a+0.000001,b,0.0001)\n",
    "dx = abs(b - a)\n",
    "N = len(x)\n",
    "h = (a-b)/N\n",
    "\n",
    "g = np.linspace(0,np.pi/2, 1000)\n",
    "o =[]\n",
    "\n",
    "for e in g:\n",
    "    k = np.sin(e/2)\n",
    "    f =  2/np.pi*np.sqrt(1-((k*np.sin(x))*(k*np.sin(x)))) \n",
    "    I = 0.0\n",
    "    for i in range(1, N-1, 2):\n",
    "        I = float(I + (h / 3.0)*(f[i-1] + 4.0*f[i] + f[i+1]))\n",
    "    if (N%2)==0:\n",
    "        I = I + h * (5.0*f[-1] + 8.0*f[-2] - f[N-2])/12.0 \n",
    "        \n",
    "    o.append(-1* float(I))\n",
    "\n",
    "plt.plot(g,o)"
   ]
  }
 ],
 "metadata": {
  "kernelspec": {
   "display_name": "Python 3",
   "language": "python",
   "name": "python3"
  },
  "language_info": {
   "codemirror_mode": {
    "name": "ipython",
    "version": 3
   },
   "file_extension": ".py",
   "mimetype": "text/x-python",
   "name": "python",
   "nbconvert_exporter": "python",
   "pygments_lexer": "ipython3",
   "version": "3.6.3"
  }
 },
 "nbformat": 4,
 "nbformat_minor": 2
}

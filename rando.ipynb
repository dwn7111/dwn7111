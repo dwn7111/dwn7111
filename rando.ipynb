{
 "cells": [
  {
   "cell_type": "code",
   "execution_count": 117,
   "metadata": {},
   "outputs": [
    {
     "name": "stdout",
     "output_type": "stream",
     "text": [
      "Roots :  [7.0000000000000773, 1.0, 5.0, 2.999999999999972, 2.0, 9.0]\n",
      "Running Time :  0.003965854644775391\n"
     ]
    },
    {
     "name": "stderr",
     "output_type": "stream",
     "text": [
      "C:\\Users\\Shwetabh\\Anaconda3\\lib\\site-packages\\ipykernel_launcher.py:21: RuntimeWarning: invalid value encountered in long_scalars\n",
      "C:\\Users\\Shwetabh\\Anaconda3\\lib\\site-packages\\ipykernel_launcher.py:21: RuntimeWarning: divide by zero encountered in long_scalars\n",
      "C:\\Users\\Shwetabh\\Anaconda3\\lib\\site-packages\\ipykernel_launcher.py:20: RuntimeWarning: invalid value encountered in double_scalars\n",
      "C:\\Users\\Shwetabh\\Anaconda3\\lib\\site-packages\\numpy\\lib\\polynomial.py:680: RuntimeWarning: invalid value encountered in multiply\n",
      "  y = y * x + p[i]\n"
     ]
    }
   ],
   "source": [
    "import numpy as np\n",
    "import time\n",
    "\n",
    "start = time.time() #time count starts\n",
    "\n",
    "flag = True #conditional \n",
    "while(flag):\n",
    "    try:\n",
    "        z = [np.random.randint(0,10) for i in  range (0,n)] #initial guess\n",
    "        er_t = 0.0001\n",
    "        ac_e = 1\n",
    "        while(ac_e>er_t):\n",
    "            zc = z.copy()\n",
    "            ac_e=0\n",
    "            for x in range(n):\n",
    "                mult = 1\n",
    "                for y in range(n):\n",
    "                    \n",
    "                    if(x!=y):\n",
    "                        mult = mult * (z[x]-z[y])\n",
    "                delta = np.polyval(p, z[x])/mult\n",
    "                ac_e = max(ac_e, abs(delta))    \n",
    "                zc[x] = z[x] - delta\n",
    "            z = zc.copy()\n",
    "        flag = False\n",
    "        for x in z:\n",
    "            if(str(x)==\"nan\"):\n",
    "                flag = True\n",
    "    except:\n",
    "        print(\"Retry\")\n",
    "end = time.time() #timer ends\n",
    "\n",
    "print(\"Roots : \", z)\n",
    "print(\"Running Time : \",end-start)"
   ]
  }
 ],
 "metadata": {
  "kernelspec": {
   "display_name": "Python 3",
   "language": "python",
   "name": "python3"
  },
  "language_info": {
   "codemirror_mode": {
    "name": "ipython",
    "version": 3
   },
   "file_extension": ".py",
   "mimetype": "text/x-python",
   "name": "python",
   "nbconvert_exporter": "python",
   "pygments_lexer": "ipython3",
   "version": "3.6.3"
  }
 },
 "nbformat": 4,
 "nbformat_minor": 2
}

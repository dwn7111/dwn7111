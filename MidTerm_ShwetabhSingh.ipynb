{
 "cells": [
  {
   "cell_type": "code",
   "execution_count": 42,
   "metadata": {},
   "outputs": [
    {
     "data": {
      "text/plain": [
       "2.1711549080197861"
      ]
     },
     "execution_count": 42,
     "metadata": {},
     "output_type": "execute_result"
    }
   ],
   "source": [
    "# Q1\n",
    "import numpy as np\n",
    "\n",
    "def f(x): # defining the function\n",
    "    return np.sqrt(x)/np.sin(x)\n",
    "\n",
    "l = 0.0001 # lower limit\n",
    "u = 1.0 # upper limit\n",
    "err = 1e-6\n",
    "N = 1000 # iteration\n",
    "\n",
    "def trap (a, b, n):  # trapezoid function\n",
    "    h = (b - a) / n \n",
    "    s = (f(a) + f(b)) \n",
    "    i = 1\n",
    "    for i in range(int(n)): \n",
    "        s += 2 * f(a + i * h) \n",
    "        i += 1\n",
    "        \n",
    "    I = ((h / 2) * s)\n",
    "    return I\n",
    "   \n",
    "integral = trap(l, u , N)\n",
    "\n",
    "integral"
   ]
  },
  {
   "cell_type": "code",
   "execution_count": 43,
   "metadata": {},
   "outputs": [
    {
     "ename": "RecursionError",
     "evalue": "maximum recursion depth exceeded while calling a Python object",
     "output_type": "error",
     "traceback": [
      "\u001b[1;31m---------------------------------------------------------------------------\u001b[0m",
      "\u001b[1;31mRecursionError\u001b[0m                            Traceback (most recent call last)",
      "\u001b[1;32m<ipython-input-43-0b19db6d6885>\u001b[0m in \u001b[0;36m<module>\u001b[1;34m()\u001b[0m\n\u001b[0;32m     15\u001b[0m     \u001b[1;32mreturn\u001b[0m \u001b[0mar\u001b[0m\u001b[1;33m\u001b[0m\u001b[0m\n\u001b[0;32m     16\u001b[0m \u001b[1;33m\u001b[0m\u001b[0m\n\u001b[1;32m---> 17\u001b[1;33m \u001b[0mI2\u001b[0m \u001b[1;33m=\u001b[0m \u001b[0madpint\u001b[0m\u001b[1;33m(\u001b[0m\u001b[0ml\u001b[0m\u001b[1;33m,\u001b[0m\u001b[0mu\u001b[0m\u001b[1;33m,\u001b[0m\u001b[0merr\u001b[0m\u001b[1;33m)\u001b[0m\u001b[1;33m\u001b[0m\u001b[0m\n\u001b[0m\u001b[0;32m     18\u001b[0m \u001b[0mI2\u001b[0m\u001b[1;33m\u001b[0m\u001b[0m\n",
      "\u001b[1;32m<ipython-input-43-0b19db6d6885>\u001b[0m in \u001b[0;36madpint\u001b[1;34m(a, b, t)\u001b[0m\n\u001b[0;32m     10\u001b[0m         \u001b[1;32mreturn\u001b[0m \u001b[0mtotarea\u001b[0m\u001b[1;33m\u001b[0m\u001b[0m\n\u001b[0;32m     11\u001b[0m     \u001b[1;32melse\u001b[0m\u001b[1;33m:\u001b[0m\u001b[1;33m\u001b[0m\u001b[0m\n\u001b[1;32m---> 12\u001b[1;33m         \u001b[0mareaL\u001b[0m\u001b[1;33m=\u001b[0m \u001b[0madpint\u001b[0m\u001b[1;33m(\u001b[0m\u001b[0ma\u001b[0m \u001b[1;33m,\u001b[0m \u001b[0mk\u001b[0m \u001b[1;33m,\u001b[0m \u001b[0mt\u001b[0m\u001b[1;33m/\u001b[0m\u001b[1;36m2\u001b[0m\u001b[1;33m)\u001b[0m \u001b[1;31m# defining new areas around the point\u001b[0m\u001b[1;33m\u001b[0m\u001b[0m\n\u001b[0m\u001b[0;32m     13\u001b[0m         \u001b[0mareaR\u001b[0m \u001b[1;33m=\u001b[0m \u001b[0madpint\u001b[0m\u001b[1;33m(\u001b[0m\u001b[0mb\u001b[0m\u001b[1;33m,\u001b[0m\u001b[0mk\u001b[0m\u001b[1;33m,\u001b[0m\u001b[0mt\u001b[0m\u001b[1;33m/\u001b[0m\u001b[1;36m2\u001b[0m\u001b[1;33m)\u001b[0m\u001b[1;33m\u001b[0m\u001b[0m\n\u001b[0;32m     14\u001b[0m         \u001b[0mar\u001b[0m \u001b[1;33m=\u001b[0m \u001b[0mar\u001b[0m \u001b[1;33m+\u001b[0m \u001b[0mareaL\u001b[0m \u001b[1;33m+\u001b[0m \u001b[0mareaR\u001b[0m \u001b[1;31m# new area transformation\u001b[0m\u001b[1;33m\u001b[0m\u001b[0m\n",
      "... last 1 frames repeated, from the frame below ...\n",
      "\u001b[1;32m<ipython-input-43-0b19db6d6885>\u001b[0m in \u001b[0;36madpint\u001b[1;34m(a, b, t)\u001b[0m\n\u001b[0;32m     10\u001b[0m         \u001b[1;32mreturn\u001b[0m \u001b[0mtotarea\u001b[0m\u001b[1;33m\u001b[0m\u001b[0m\n\u001b[0;32m     11\u001b[0m     \u001b[1;32melse\u001b[0m\u001b[1;33m:\u001b[0m\u001b[1;33m\u001b[0m\u001b[0m\n\u001b[1;32m---> 12\u001b[1;33m         \u001b[0mareaL\u001b[0m\u001b[1;33m=\u001b[0m \u001b[0madpint\u001b[0m\u001b[1;33m(\u001b[0m\u001b[0ma\u001b[0m \u001b[1;33m,\u001b[0m \u001b[0mk\u001b[0m \u001b[1;33m,\u001b[0m \u001b[0mt\u001b[0m\u001b[1;33m/\u001b[0m\u001b[1;36m2\u001b[0m\u001b[1;33m)\u001b[0m \u001b[1;31m# defining new areas around the point\u001b[0m\u001b[1;33m\u001b[0m\u001b[0m\n\u001b[0m\u001b[0;32m     13\u001b[0m         \u001b[0mareaR\u001b[0m \u001b[1;33m=\u001b[0m \u001b[0madpint\u001b[0m\u001b[1;33m(\u001b[0m\u001b[0mb\u001b[0m\u001b[1;33m,\u001b[0m\u001b[0mk\u001b[0m\u001b[1;33m,\u001b[0m\u001b[0mt\u001b[0m\u001b[1;33m/\u001b[0m\u001b[1;36m2\u001b[0m\u001b[1;33m)\u001b[0m\u001b[1;33m\u001b[0m\u001b[0m\n\u001b[0;32m     14\u001b[0m         \u001b[0mar\u001b[0m \u001b[1;33m=\u001b[0m \u001b[0mar\u001b[0m \u001b[1;33m+\u001b[0m \u001b[0mareaL\u001b[0m \u001b[1;33m+\u001b[0m \u001b[0mareaR\u001b[0m \u001b[1;31m# new area transformation\u001b[0m\u001b[1;33m\u001b[0m\u001b[0m\n",
      "\u001b[1;31mRecursionError\u001b[0m: maximum recursion depth exceeded while calling a Python object"
     ]
    }
   ],
   "source": [
    "#Q 1\n",
    "# i tried adaptive but it didnt work\n",
    "\n",
    "def adpint(a,b,t): # defining adaptive integration\n",
    "    l = b - 1\n",
    "    k = (b + 1) /2 \n",
    "    ar = 0\n",
    "    totarea = integral\n",
    "    narea = trap(a,k,n) + trap(k,b,n) #calculating area using trap on both sides of k point\n",
    "    eps = np.abs(totarea-narea) # abs err\n",
    "     \n",
    "    if eps < t:\n",
    "        return totarea\n",
    "    else:\n",
    "        areaL= adpint(a , k , t/2) # defining new areas around the point\n",
    "        areaR = adpint(b,k,t/2)\n",
    "        ar = ar + areaL + areaR # new area transformation\n",
    "    return ar \n",
    "\n",
    "I2 = adpint(l,u,err)\n",
    "I2"
   ]
  },
  {
   "cell_type": "code",
   "execution_count": 2,
   "metadata": {},
   "outputs": [
    {
     "data": {
      "text/plain": [
       "0.29703735212541266"
      ]
     },
     "execution_count": 2,
     "metadata": {},
     "output_type": "execute_result"
    }
   ],
   "source": [
    "#Q2 \n",
    "import numpy as np\n",
    "import random\n",
    "\n",
    "a = 0.0  # lower limit\n",
    "b = 1.0 # upper limit\n",
    "\n",
    "N = 1000\n",
    "\n",
    "def f(x1, x2, x3 , x4, x5): # defining a multi dim fuction\n",
    "    return 1/(1 + x1 + x2 + x3 +x4 + x5)\n",
    "\n",
    "x1rand = np.zeros(N) # creating 5 arrays\n",
    "x2rand = np.zeros(N) \n",
    "x3rand = np.zeros(N) \n",
    "x4rand = np.zeros(N) \n",
    "x5rand = np.zeros(N) \n",
    "\n",
    "for i in range (N):\n",
    "    x1rand[i]=random.uniform(a,b)\n",
    "    x2rand[i]=random.uniform(a,b)  #filling each array with random numbers \n",
    "    x3rand[i]=random.uniform(a,b)\n",
    "    x4rand[i]=random.uniform(a,b)\n",
    "    x5rand[i]=random.uniform(a,b)\n",
    "    \n",
    "int1 = 0.0 #initial integral value\n",
    "\n",
    "for i in range(N):\n",
    "    int1 += f(x1rand[i],x2rand[i],x3rand[i],x4rand[i],x5rand[i]) # integrating condition\n",
    "    \n",
    "\n",
    "bigarea = ((b-a)**5)/(float(N)) * int1\n",
    "\n",
    "bigarea"
   ]
  },
  {
   "cell_type": "code",
   "execution_count": 4,
   "metadata": {},
   "outputs": [
    {
     "data": {
      "text/plain": [
       "2.5620194425555729"
      ]
     },
     "execution_count": 4,
     "metadata": {},
     "output_type": "execute_result"
    }
   ],
   "source": [
    "#Q 3 \n",
    "\n",
    "import numpy as np\n",
    "\n",
    "x0 = 0 # lower limit\n",
    "xm = 2  # upper mlimit that we have calculate\n",
    "y = 0 # initial value\n",
    "dx = 0.001 # step size\n",
    "\n",
    "while x0 < xm :\n",
    "    y = y + dx*np.sqrt(y + x0**2) # discretised condition\n",
    "    x0 = x0 + dx # incremental step\n",
    "\n",
    "y\n"
   ]
  },
  {
   "cell_type": "code",
   "execution_count": 5,
   "metadata": {
    "collapsed": true
   },
   "outputs": [],
   "source": [
    "#Q4\n",
    "import random\n",
    "import numpy as np\n",
    "it = 100 # no of iteration\n",
    "g1 = [] #empty list that will store value\n",
    "\n",
    "mean = [] # list to store mean\n",
    "var = [] # list to store variance\n",
    "\n",
    "# For p = 0.3\n",
    "n = 0.3\n",
    "\n",
    "for i in range(it): # weighted distribution \n",
    "    r = random.uniform(0, 1)\n",
    "    if r < n: \n",
    "        g1.append(1)\n",
    "    else :\n",
    "        g1.append(0)\n",
    "mean1 = np.mean(g1) #mean for this case \n",
    "var1= np.var(g1)"
   ]
  },
  {
   "cell_type": "code",
   "execution_count": 6,
   "metadata": {
    "collapsed": true
   },
   "outputs": [],
   "source": [
    "#Q4\n",
    "import random\n",
    "import numpy as np\n",
    "it = 100\n",
    "g2 = []\n",
    "\n",
    "\n",
    "# For p = 0.4\n",
    "n = 0.4\n",
    "\n",
    "for i in range(it):\n",
    "    r = random.uniform(0, 1)\n",
    "    if r < n: \n",
    "        g2.append(1)\n",
    "    else :\n",
    "        g2.append(0)\n",
    "mean2 = np.mean(g2)\n",
    "var2= np.var(g2)"
   ]
  },
  {
   "cell_type": "code",
   "execution_count": 7,
   "metadata": {
    "collapsed": true
   },
   "outputs": [],
   "source": [
    "#Q4 \n",
    "# same as above\n",
    "import random\n",
    "import numpy as np\n",
    "it = 100\n",
    "g3 = []\n",
    "\n",
    "mean = []\n",
    "var = []\n",
    "\n",
    "# For p = 0.5\n",
    "n = 0.5\n",
    "\n",
    "for i in range(it):\n",
    "    r = random.uniform(0, 1)\n",
    "    if r < n: \n",
    "        g3.append(1)\n",
    "    else :\n",
    "        g3.append(0)\n",
    "mean3 = np.mean(g3)\n",
    "var3= np.var(g3)"
   ]
  },
  {
   "cell_type": "code",
   "execution_count": 8,
   "metadata": {
    "collapsed": true
   },
   "outputs": [],
   "source": [
    "#Q4\n",
    "import random\n",
    "import numpy as np\n",
    "it = 100\n",
    "g4 = []\n",
    "\n",
    "mean = []\n",
    "var = []\n",
    "\n",
    "# For p = 0.6\n",
    "n = 0.6\n",
    "\n",
    "for i in range(it):\n",
    "    r = random.uniform(0, 1)\n",
    "    if r < n: \n",
    "        g4.append(1)\n",
    "    else :\n",
    "        g4.append(0)\n",
    "mean4 = np.mean(g4)\n",
    "var4= np.var(g4)"
   ]
  },
  {
   "cell_type": "code",
   "execution_count": 9,
   "metadata": {
    "collapsed": true
   },
   "outputs": [],
   "source": [
    "mean = [mean1 , mean2, mean3, mean4]\n",
    "var = [var1, var2, var3, var4]\n",
    "\n",
    "meancalc = [0.3,0.4,0.5,0.6] # calculated mean\n",
    "varcalc = [0.21, 0.24, 0.25, 0.24] #calculated variance"
   ]
  },
  {
   "cell_type": "code",
   "execution_count": 10,
   "metadata": {},
   "outputs": [
    {
     "data": {
      "image/png": "[encoded data removed]",
      "text/plain": [
       "<matplotlib.figure.Figure at 0x200214fcb70>"
      ]
     },
     "metadata": {},
     "output_type": "display_data"
    }
   ],
   "source": [
    "import matplotlib.pyplot as plt\n",
    "p = [0.3 , 0.4 , 0.5,0.6]\n",
    "plt.plot(p,mean)\n",
    "plt.plot(p, meancalc)\n",
    "plt.show()\n",
    "\n",
    "# yellow line is manually calculated and blue is numerically "
   ]
  },
  {
   "cell_type": "code",
   "execution_count": 11,
   "metadata": {},
   "outputs": [
    {
     "data": {
      "image/png": "[encoded data removed]",
      "text/plain": [
       "<matplotlib.figure.Figure at 0x2002190c198>"
      ]
     },
     "metadata": {},
     "output_type": "display_data"
    }
   ],
   "source": [
    "# variance plot\n",
    "plt.plot(p,var)\n",
    "plt.plot(p, varcalc)\n",
    "plt.show()"
   ]
  },
  {
   "cell_type": "code",
   "execution_count": 12,
   "metadata": {},
   "outputs": [
    {
     "name": "stdout",
     "output_type": "stream",
     "text": [
      "found a root 5.820766091346741e-09\n",
      "m =  5.820766091346741e-11\n"
     ]
    }
   ],
   "source": [
    "#Q5\n",
    "import numpy as np\n",
    "xm = 100 # upper limit\n",
    "xp = 0#lower limit\n",
    "err = 1e-6\n",
    "Nm = 100\n",
    "\n",
    "t = 0.01 # fixed a temp\n",
    "def f(x):\n",
    "    return (np.tanh(x) / t) - x # defining function in x and t \n",
    "\n",
    "for i in range (0, 100): # bisection method\n",
    "        \n",
    "    x = (xp + xm )/ 2\n",
    "        \n",
    "    if f(xp)*f(x) > 0:\n",
    "        xp = x\n",
    "    else:\n",
    "        xm = x\n",
    "            \n",
    "    if abs(f(x)) < err :\n",
    "        print (\"found a root\",x)\n",
    "        break\n",
    "            \n",
    "    if i == Nm -1 : \n",
    "        print(\"Root not found\")\n",
    "        \n",
    "print(\"m = \", x*t) # printing value of m"
   ]
  },
  {
   "cell_type": "code",
   "execution_count": 13,
   "metadata": {},
   "outputs": [
    {
     "name": "stdout",
     "output_type": "stream",
     "text": [
      "found a root 7.450580596923828e-07\n",
      "m =  7.450580596923828e-08\n"
     ]
    }
   ],
   "source": [
    "#Q5\n",
    "import numpy as np\n",
    "xm = 100 # upper limit\n",
    "xp = 0 #\n",
    "err = 1e-6\n",
    "Nm = 100\n",
    "\n",
    "t = 0.1 # fixed a temp\n",
    "def f(x):\n",
    "    return (np.tanh(x) / 5) - x # defining funciton \n",
    "\n",
    "for i in range (0, 100): # bisection method\n",
    "        \n",
    "    x = (xp + xm )/ 2\n",
    "        \n",
    "    if f(xp)*f(x) > 0:\n",
    "        xp = x\n",
    "    else:\n",
    "        xm = x\n",
    "            \n",
    "    if abs(f(x)) < err :\n",
    "        print (\"found a root\",x)\n",
    "        break\n",
    "            \n",
    "    if i == Nm -1 : \n",
    "        print(\"Root not found\")\n",
    "print(\"m = \", x*t)"
   ]
  },
  {
   "cell_type": "code",
   "execution_count": 14,
   "metadata": {},
   "outputs": [
    {
     "name": "stdout",
     "output_type": "stream",
     "text": [
      "found a root 5.9604644775390625e-06\n",
      "m =  6.55651092529297e-06\n"
     ]
    }
   ],
   "source": [
    "import numpy as np\n",
    "xm = 100 # upper limit\n",
    "xp = 0#lower limit\n",
    "err = 1e-6\n",
    "Nm = 100\n",
    "\n",
    "t = 1.1 # fixed a temp\n",
    "def f(x):\n",
    "    return (np.tanh(x) / t) - x # defining funciton \n",
    "\n",
    "for i in range (0, 100): # bisection method\n",
    "        \n",
    "    x = (xp + xm )/ 2\n",
    "        \n",
    "    if f(xp)*f(x) > 0:\n",
    "        xp = x\n",
    "    else:\n",
    "        xm = x\n",
    "            \n",
    "    if abs(f(x)) < err :\n",
    "        print (\"found a root\",x)\n",
    "        break\n",
    "            \n",
    "    if i == Nm -1 : \n",
    "        print(\"Root not found\")\n",
    "print(\"m = \", x*t)"
   ]
  },
  {
   "cell_type": "code",
   "execution_count": 18,
   "metadata": {},
   "outputs": [
    {
     "name": "stdout",
     "output_type": "stream",
     "text": [
      "found a root 1.4901161193847656e-06\n",
      "m =  2.9802322387695312e-06\n"
     ]
    }
   ],
   "source": [
    "#Q5\n",
    "import numpy as np\n",
    "xm = 100 # upper limit\n",
    "xp = 0#lower limit\n",
    "err = 1e-6\n",
    "Nm = 100\n",
    "\n",
    "t = 2 # fixed a temp\n",
    "def f(x):\n",
    "    return (np.tanh(x) / t) - x # defining funciton \n",
    "\n",
    "for i in range (0, 100): # bisection method\n",
    "        \n",
    "    x = (xp + xm )/ 2\n",
    "        \n",
    "    if f(xp)*f(x) > 0:\n",
    "        xp = x\n",
    "    else:\n",
    "        xm = x\n",
    "            \n",
    "    if abs(f(x)) < err :\n",
    "        print (\"found a root\",x)\n",
    "        break\n",
    "            \n",
    "    if i == Nm -1 : \n",
    "        print(\"Root not found\")\n",
    "        \n",
    "        \n",
    "print(\"m = \", x*t)"
   ]
  },
  {
   "cell_type": "code",
   "execution_count": 16,
   "metadata": {},
   "outputs": [
    {
     "name": "stdout",
     "output_type": "stream",
     "text": [
      "found a root 7.450580596923828e-07\n",
      "m =  8.195638656616211e-06\n"
     ]
    }
   ],
   "source": [
    "#Q5\n",
    "import numpy as np\n",
    "xm = 100 # upper limit\n",
    "xp = 0#lower limit\n",
    "err = 1e-6\n",
    "Nm = 100\n",
    "\n",
    "t = 11 # fixed a temp\n",
    "def f(x):\n",
    "    return (np.tanh(x) / t) - x # defining funciton \n",
    "\n",
    "for i in range (0, 100): # bisection method\n",
    "        \n",
    "    x = (xp + xm )/ 2\n",
    "        \n",
    "    if f(xp)*f(x) > 0:\n",
    "        xp = x\n",
    "    else:\n",
    "        xm = x\n",
    "            \n",
    "    if abs(f(x)) < err :\n",
    "        print (\"found a root\",x)\n",
    "        break\n",
    "            \n",
    "    if i == Nm -1 : \n",
    "        print(\"Root not found\")\n",
    "        \n",
    "        \n",
    "print(\"m = \", x*t)"
   ]
  },
  {
   "cell_type": "code",
   "execution_count": 17,
   "metadata": {},
   "outputs": [
    {
     "data": {
      "image/png": "[encoded data removed]",
      "text/plain": [
       "<matplotlib.figure.Figure at 0x200214fc320>"
      ]
     },
     "metadata": {},
     "output_type": "display_data"
    }
   ],
   "source": [
    "#Q5\n",
    "temp = [0.01, 0.1 , 1.1 , 2 , 11]\n",
    "mag = [5.820766091346741e-11,7.450580596923828e-08,6.55651092529297e-06, 2.9802322387695312e-06, 8.195638656616211e-06]\n",
    "\n",
    "plt.plot(temp, mag)\n",
    "plt.show()"
   ]
  }
 ],
 "metadata": {
  "kernelspec": {
   "display_name": "Python 3",
   "language": "python",
   "name": "python3"
  },
  "language_info": {
   "codemirror_mode": {
    "name": "ipython",
    "version": 3
   },
   "file_extension": ".py",
   "mimetype": "text/x-python",
   "name": "python",
   "nbconvert_exporter": "python",
   "pygments_lexer": "ipython3",
   "version": "3.6.3"
  }
 },
 "nbformat": 4,
 "nbformat_minor": 2
}

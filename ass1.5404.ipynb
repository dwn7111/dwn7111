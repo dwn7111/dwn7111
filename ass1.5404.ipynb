{
 "cells": [
  {
   "cell_type": "code",
   "execution_count": 1,
   "metadata": {
    "collapsed": true
   },
   "outputs": [],
   "source": [
    "import numpy as np\n",
    "import matplotlib.pyplot as plt"
   ]
  },
  {
   "cell_type": "code",
   "execution_count": 2,
   "metadata": {
    "collapsed": true
   },
   "outputs": [],
   "source": [
    "f = lambda x : x*np.exp(x) - np.cos(x)\n",
    "f_dash = lambda x : np.exp(x) + x*np.exp(x) + np.sin(x)"
   ]
  },
  {
   "cell_type": "code",
   "execution_count": 3,
   "metadata": {},
   "outputs": [
    {
     "name": "stdout",
     "output_type": "stream",
     "text": [
      "0.5177574157714844\n"
     ]
    },
    {
     "data": {
      "image/png": "[encoded data removed]",
      "text/plain": [
       "<matplotlib.figure.Figure at 0x25a618a3860>"
      ]
     },
     "metadata": {},
     "output_type": "display_data"
    },
    {
     "name": "stdout",
     "output_type": "stream",
     "text": [
      "The root using bisection method is 0.5177574157714844 after 18 iterations\n"
     ]
    }
   ],
   "source": [
    "#Bisection method\n",
    "\n",
    "#Parameters/Inputs\n",
    "a = 0\n",
    "b = 1\n",
    "itr = 0\n",
    "eps_a = 0.000005\n",
    "list = []\n",
    "elist = []\n",
    "\n",
    "#Method\n",
    "converged = False\n",
    "while(not converged):\n",
    "    c = (a+b)/2\n",
    "    itr = itr+ 1\n",
    "    if(f(c)>0):\n",
    "        b=cw\n",
    "    else:\n",
    "        a=c\n",
    "    \n",
    "    converged1 = (f(c)==0)\n",
    "    converged2 = (abs(c-((a+b)/2))/abs(c)) < eps_a\n",
    "    converged = converged1 or converged2\n",
    "    list.append(c)\n",
    "print(c)\n",
    "for i in range(len(list)):\n",
    "    elist.append (abs(list[i]-c)/abs(c))  \n",
    "plt.plot(elist)\n",
    "plt.show()\n",
    "print(\"The root using bisection method is\",c, \"after\",itr, \"iterations\")"
   ]
  },
  {
   "cell_type": "code",
   "execution_count": 4,
   "metadata": {},
   "outputs": [
    {
     "name": "stdout",
     "output_type": "stream",
     "text": [
      "0.517757568785\n"
     ]
    },
    {
     "data": {
      "image/png": "[encoded data removed]",
      "text/plain": [
       "<matplotlib.figure.Figure at 0x25a618c6048>"
      ]
     },
     "metadata": {},
     "output_type": "display_data"
    },
    {
     "name": "stdout",
     "output_type": "stream",
     "text": [
      "The root using false positive method is 0.517757568785 after 10 iterations\n"
     ]
    }
   ],
   "source": [
    "#False Position method\n",
    "\n",
    "#Parameters/Inputs\n",
    "a = 0\n",
    "b = 1\n",
    "eps_a = 0.000005\n",
    "xt = 0.517757385969162\n",
    "list1 = []\n",
    "elist1 = []\n",
    "itr = 0\n",
    "###questionable init\n",
    "c = (a+b)/2\n",
    "\n",
    "#Method\n",
    "converged = False\n",
    "while(not converged): \n",
    "    c_old = c\n",
    "    c = a - (f(a)*((b-a)/(f(b)-f(a))))\n",
    "    itr = itr+1\n",
    "    if(f(a)*f(c)<0):\n",
    "        a=c\n",
    "    elif(f(b)*f(c)<0):\n",
    "        b=c\n",
    "    \n",
    "    converged1 = (f(c)==0)\n",
    "    converged2 = abs(c-c_old)/abs(c) < eps_a\n",
    "    converged = converged1 or converged2\n",
    "    list1.append(c)\n",
    "print(c)\n",
    "for i in range(len(list1)):\n",
    "    elist1.append(abs(list1[i]-c)/abs(c))  \n",
    "plt.plot(elist1)\n",
    "plt.show()\n",
    "print(\"The root using false positive method is\",c, \"after\",itr, \"iterations\")"
   ]
  },
  {
   "cell_type": "code",
   "execution_count": 5,
   "metadata": {},
   "outputs": [
    {
     "name": "stdout",
     "output_type": "stream",
     "text": [
      "0.517757363682\n"
     ]
    },
    {
     "data": {
      "image/png": "[encoded data removed]",
      "text/plain": [
       "<matplotlib.figure.Figure at 0x25a61a9c048>"
      ]
     },
     "metadata": {},
     "output_type": "display_data"
    },
    {
     "name": "stdout",
     "output_type": "stream",
     "text": [
      "The root using Newton raphson method is 0.517757363682 after 5 iterations\n"
     ]
    }
   ],
   "source": [
    "#Newton Raphson\n",
    "\n",
    "#Parameters/Inputs\n",
    "x = 1\n",
    "eps_a = 0.000005\n",
    "\n",
    "xt = 0.517757385969162\n",
    "list5 = []\n",
    "elist5 = []\n",
    "itr = 0\n",
    "\n",
    "#Method\n",
    "converged = False\n",
    "while(not converged):\n",
    "    itr +=1\n",
    "    x_o = x\n",
    "    x = x - f(x)/f_dash(x)\n",
    "    converged = (abs(x-x_o)/abs(x)) < eps_a\n",
    "    \n",
    "    list5.append(x)\n",
    "print(x)\n",
    "for i in range(len(list5)):\n",
    "    elist5.append(abs(list5[i]-x)/abs(x))  \n",
    "plt.plot(elist5)\n",
    "plt.show()\n",
    "print(\"The root using Newton raphson method is\",x, \"after\",itr, \"iterations\")"
   ]
  },
  {
   "cell_type": "code",
   "execution_count": 6,
   "metadata": {},
   "outputs": [
    {
     "name": "stdout",
     "output_type": "stream",
     "text": [
      "0.517757363682\n"
     ]
    },
    {
     "data": {
      "image/png": "[encoded data removed]",
      "text/plain": [
       "<matplotlib.figure.Figure at 0x25a61f34d30>"
      ]
     },
     "metadata": {},
     "output_type": "display_data"
    },
    {
     "name": "stdout",
     "output_type": "stream",
     "text": [
      "The root using Newton raphson method is 0.517757363682 after 102 iterations\n"
     ]
    }
   ],
   "source": [
    "#Newton Raphson\n",
    "\n",
    "#Parameters/Inputs\n",
    "x = -0.4\n",
    "eps_a = 0.000005\n",
    "\n",
    "xt = 0.517757385969162\n",
    "list2 = []\n",
    "elist2 = []\n",
    "itr = 0\n",
    "\n",
    "#Method\n",
    "converged = False\n",
    "while(not converged):\n",
    "    itr +=1\n",
    "    x_o = x\n",
    "    x = x - f(x)/f_dash(x)\n",
    "    converged = (abs(x-x_o)/abs(x)) < eps_a\n",
    "    \n",
    "    list2.append(x)\n",
    "print(x)\n",
    "for i in range(len(list2)):\n",
    "    elist2.append(abs(list2[i]-x)/abs(x))  \n",
    "plt.plot(elist2)\n",
    "plt.show()\n",
    "print(\"The root using Newton raphson method is\",x, \"after\",itr, \"iterations\")"
   ]
  },
  {
   "cell_type": "code",
   "execution_count": 7,
   "metadata": {},
   "outputs": [
    {
     "name": "stdout",
     "output_type": "stream",
     "text": [
      "-7.85702249905\n"
     ]
    },
    {
     "data": {
      "image/png": "[encoded data removed]",
      "text/plain": [
       "<matplotlib.figure.Figure at 0x25a61f4fb00>"
      ]
     },
     "metadata": {},
     "output_type": "display_data"
    },
    {
     "name": "stdout",
     "output_type": "stream",
     "text": [
      "The root using Newton raphson method is -7.85702249905 after 5 iterations\n"
     ]
    }
   ],
   "source": [
    "#Newton Raphson\n",
    "\n",
    "#Parameters/Inputs\n",
    "x = -0.5\n",
    "eps_a = 0.000005\n",
    "\n",
    "xt = 0.517757385969162\n",
    "list3 = []\n",
    "elist3 = []\n",
    "itr = 0\n",
    "\n",
    "#Method\n",
    "converged = False\n",
    "while(not converged):\n",
    "    itr +=1\n",
    "    x_o = x\n",
    "    x = x - f(x)/f_dash(x)\n",
    "    converged = (abs(x-x_o)/abs(x)) < eps_a\n",
    "    \n",
    "    list3.append(x)\n",
    "print(x)\n",
    "for i in range(len(list3)):\n",
    "    elist3.append(abs(list2[i]-x)/abs(x))  \n",
    "plt.plot(elist3)\n",
    "plt.show()\n",
    "print(\"The root using Newton raphson method is\",x, \"after\",itr, \"iterations\")"
   ]
  },
  {
   "cell_type": "code",
   "execution_count": 8,
   "metadata": {},
   "outputs": [
    {
     "name": "stdout",
     "output_type": "stream",
     "text": [
      "The root using secant method is 0.517757363682 after 7 iterations\n"
     ]
    }
   ],
   "source": [
    "#Secant Methodd\n",
    "\n",
    "#Parameters/Inputs\n",
    "x_n = 0\n",
    "x_n_p1 = 1\n",
    "eps_a = 0.000005\n",
    "itr = 0\n",
    "#Method\n",
    "converged = False\n",
    "while(not converged):\n",
    "    itr +=1 \n",
    "    x_n_p2 = x_n_p1 - f(x_n_p1)*((x_n_p1-x_n)/(f(x_n_p1)-f(x_n)))\n",
    "    \n",
    "    converged = (abs(x_n_p2-x_n_p1)/abs(x_n_p2)) < eps_a\n",
    "    \n",
    "    x_n = x_n_p1\n",
    "    x_n_p1 = x_n_p2\n",
    "    \n",
    "print(\"The root using secant method is\",x_n_p2, \"after\",itr, \"iterations\")"
   ]
  }
 ],
 "metadata": {
  "kernelspec": {
   "display_name": "Python 3",
   "language": "python",
   "name": "python3"
  },
  "language_info": {
   "codemirror_mode": {
    "name": "ipython",
    "version": 3
   },
   "file_extension": ".py",
   "mimetype": "text/x-python",
   "name": "python",
   "nbconvert_exporter": "python",
   "pygments_lexer": "ipython3",
   "version": "3.6.3"
  }
 },
 "nbformat": 4,
 "nbformat_minor": 5
}

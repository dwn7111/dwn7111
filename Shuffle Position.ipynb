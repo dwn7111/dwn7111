{
 "cells": [
  {
   "cell_type": "code",
   "execution_count": 34,
   "metadata": {
    "collapsed": true
   },
   "outputs": [],
   "source": [
    "import random\n",
    "import numpy as np "
   ]
  },
  {
   "cell_type": "code",
   "execution_count": 35,
   "metadata": {},
   "outputs": [
    {
     "name": "stdout",
     "output_type": "stream",
     "text": [
      "[0, 4, 6, 8, 2, 1, 7, 10, 3, 9, 5, 11, 12]\n"
     ]
    }
   ],
   "source": [
    "N = [0,1,2,3,4,5,6,7,8,9,10,11,12]\n",
    "\n",
    "for i in range(0,12):\n",
    "    n = random.randint(0,12)\n",
    "    N[i], N[n] = N[n], N[i]\n",
    "    \n",
    "print(N)"
   ]
  },
  {
   "cell_type": "code",
   "execution_count": 41,
   "metadata": {},
   "outputs": [
    {
     "name": "stdout",
     "output_type": "stream",
     "text": [
      "[  4.  12.   5.   9.   2.   3.   8.   0.  11.  10.   6.   7.   1.]\n"
     ]
    }
   ],
   "source": [
    "n = 13\n",
    "a = np.empty(n)\n",
    "\n",
    "for i in range(0, n):\n",
    "    a[i] = i\n",
    "\n",
    "for j in range(0,n):\n",
    "    p = random.randint(0,12)\n",
    "    a[j], a[p] = a[p], a[j]\n",
    "    \n",
    "print(a)"
   ]
  }
 ],
 "metadata": {
  "kernelspec": {
   "display_name": "Python 3",
   "language": "python",
   "name": "python3"
  },
  "language_info": {
   "codemirror_mode": {
    "name": "ipython",
    "version": 3
   },
   "file_extension": ".py",
   "mimetype": "text/x-python",
   "name": "python",
   "nbconvert_exporter": "python",
   "pygments_lexer": "ipython3",
   "version": "3.6.3"
  }
 },
 "nbformat": 4,
 "nbformat_minor": 2
}

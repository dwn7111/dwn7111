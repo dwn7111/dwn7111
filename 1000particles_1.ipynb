{
 "cells": [
  {
   "cell_type": "code",
   "execution_count": 3,
   "metadata": {
    "colab": {
     "base_uri": "https://localhost:8080/",
     "height": 34
    },
    "colab_type": "code",
    "id": "kKqdY0uVyZGq",
    "outputId": "f1defb05-5e84-47a6-d03b-f3a9ec682492"
   },
   "outputs": [
    {
     "name": "stdout",
     "output_type": "stream",
     "text": [
      "490\n"
     ]
    }
   ],
   "source": [
    "#Q1 (a)\n",
    "import random\n",
    "\n",
    "N = 1000\n",
    "\n",
    "box1 = [i for i in range(N)]  #2 boxes\n",
    "box2 = []\n",
    "\n",
    "for _ in range(10000000):\n",
    "    particle = random.randint(0,N-1)\n",
    "    \n",
    "    if particle in box1:\n",
    "        box2.append(particle)\n",
    "        box1.remove(particle)\n",
    "    else:\n",
    "        box1.append(particle)\n",
    "        box2.remove(particle)\n",
    "    \n",
    "print(len(box1))"
   ]
  },
  {
   "cell_type": "code",
   "execution_count": 20,
   "metadata": {
    "collapsed": true
   },
   "outputs": [],
   "source": [
    "#Q1 (b)\n",
    "diff_list = []\n",
    "                                      #checking the difference between the length of boxes 10000 times\n",
    "for _ in range(1000):\n",
    "                                      #running the simulation 1000 times\n",
    "    for _ in range(N):\n",
    "        particle = random.randint(0,N-1)\n",
    "    \n",
    "        if particle in box1:\n",
    "            box2.append(particle)\n",
    "            box1.remove(particle)\n",
    "        else:\n",
    "            box1.append(particle)\n",
    "            box2.remove(particle)\n",
    "                                      #after the simulation has ran 1000 times, find the difference and add it to a list\n",
    "    diff_list.append(len(box1) - len(box2))\n",
    "\n",
    "  "
   ]
  },
  {
   "cell_type": "code",
   "execution_count": 21,
   "metadata": {},
   "outputs": [
    {
     "data": {
      "image/png": "[encoded data removed]",
      "text/plain": [
       "<matplotlib.figure.Figure at 0x2a9c04806d8>"
      ]
     },
     "metadata": {},
     "output_type": "display_data"
    }
   ],
   "source": [
    "import matplotlib.pyplot as plt\n",
    "\n",
    "#Density = true normalises the data\n",
    "plt.hist(diff_list,58,density = True)\n",
    "plt.xlabel('Difference')\n",
    "plt.ylabel('Frequency')\n",
    "\n",
    "plt.show()"
   ]
  },
  {
   "cell_type": "code",
   "execution_count": 22,
   "metadata": {},
   "outputs": [
    {
     "name": "stdout",
     "output_type": "stream",
     "text": [
      "1009.366464  - var\n",
      "31.7705282298  - Std\n"
     ]
    }
   ],
   "source": [
    "# Q1 (d)\n",
    "import numpy as np\n",
    "a = np.var(diff_list)\n",
    "print(a, \" - var\")\n",
    "b= np.std(diff_list)\n",
    "print(b, \" - Std\")"
   ]
  },
  {
   "cell_type": "code",
   "execution_count": 14,
   "metadata": {
    "colab": {},
    "colab_type": "code",
    "collapsed": true,
    "id": "EBUsYK-65Wak"
   },
   "outputs": [],
   "source": [
    "#(c)\n",
    "diff_list1 = []\n",
    "                                      #checking the difference between the length of boxes 10000 times\n",
    "for _ in range(10000):\n",
    "                                      #running the simulation 1000 times\n",
    "    for _ in range(N):\n",
    "        particle = random.randint(0,N-1)\n",
    "    \n",
    "        if particle in box1:\n",
    "            box2.append(particle)\n",
    "            box1.remove(particle)\n",
    "        else:\n",
    "            box1.append(particle)\n",
    "            box2.remove(particle)\n",
    "                                      #after the simulation has ran 1000 times, find the difference and add it to a list\n",
    "    diff_list1.append(len(box1) - len(box2))\n",
    "\n",
    "  "
   ]
  },
  {
   "cell_type": "code",
   "execution_count": 15,
   "metadata": {
    "colab": {
     "base_uri": "https://localhost:8080/",
     "height": 283
    },
    "colab_type": "code",
    "id": "s40hJHWO5d5X",
    "outputId": "114e8b05-7256-4575-e679-860367843921"
   },
   "outputs": [
    {
     "data": {
      "image/png": "[encoded data removed]",
      "text/plain": [
       "<matplotlib.figure.Figure at 0x2a9c8353da0>"
      ]
     },
     "metadata": {},
     "output_type": "display_data"
    }
   ],
   "source": [
    "import matplotlib.pyplot as plt\n",
    "\n",
    "#Density = true normalises the data\n",
    "plt.hist(diff_list1,58,density = True)\n",
    "plt.xlabel('Difference')\n",
    "plt.ylabel('Frequency')\n",
    "\n",
    "plt.show()"
   ]
  },
  {
   "cell_type": "code",
   "execution_count": 19,
   "metadata": {},
   "outputs": [
    {
     "name": "stdout",
     "output_type": "stream",
     "text": [
      "995.27171696  - var\n",
      "31.5479273005  - Std\n"
     ]
    }
   ],
   "source": [
    "import numpy as np\n",
    "c = np.var(diff_list1)\n",
    "print(c, \" - var\")\n",
    "d = np.std(diff_list1)\n",
    "print(d, \" - Std\")"
   ]
  },
  {
   "cell_type": "code",
   "execution_count": 23,
   "metadata": {
    "collapsed": true
   },
   "outputs": [],
   "source": [
    "#(d)\n",
    "diff_list2 = []\n",
    "                                      #checking the difference between the length of boxes 10000 times\n",
    "for _ in range(100):\n",
    "                                      #running the simulation 1000 times\n",
    "    for _ in range(N):\n",
    "        particle = random.randint(0,N-1)\n",
    "    \n",
    "        if particle in box1:\n",
    "            box2.append(particle)\n",
    "            box1.remove(particle)\n",
    "        else:\n",
    "            box1.append(particle)\n",
    "            box2.remove(particle)\n",
    "                                      #after the simulation has ran 1000 times, find the difference and add it to a list\n",
    "    diff_list2.append(len(box1) - len(box2))\n",
    "\n",
    "  "
   ]
  },
  {
   "cell_type": "code",
   "execution_count": 24,
   "metadata": {},
   "outputs": [
    {
     "data": {
      "image/png": "[encoded data removed]",
      "text/plain": [
       "<matplotlib.figure.Figure at 0x2a9c0679358>"
      ]
     },
     "metadata": {},
     "output_type": "display_data"
    }
   ],
   "source": [
    "# (d)\n",
    "import matplotlib.pyplot as plt\n",
    "\n",
    "#Density = true normalises the data\n",
    "plt.hist(diff_list2,58,density = True)\n",
    "plt.xlabel('Difference')\n",
    "plt.ylabel('Frequency')\n",
    "\n",
    "plt.show()"
   ]
  },
  {
   "cell_type": "code",
   "execution_count": 25,
   "metadata": {},
   "outputs": [
    {
     "name": "stdout",
     "output_type": "stream",
     "text": [
      "818.2016  - var\n",
      "28.6042234644  - Std\n"
     ]
    }
   ],
   "source": [
    "import numpy as np\n",
    "e = np.var(diff_list2)\n",
    "print(e, \" - var\")\n",
    "f = np.std(diff_list2)\n",
    "print(f, \" - Std\")"
   ]
  },
  {
   "cell_type": "code",
   "execution_count": null,
   "metadata": {
    "collapsed": true
   },
   "outputs": [],
   "source": []
  }
 ],
 "metadata": {
  "colab": {
   "name": "1000particles.ipynb",
   "provenance": []
  },
  "kernelspec": {
   "display_name": "Python 3",
   "language": "python",
   "name": "python3"
  },
  "language_info": {
   "codemirror_mode": {
    "name": "ipython",
    "version": 3
   },
   "file_extension": ".py",
   "mimetype": "text/x-python",
   "name": "python",
   "nbconvert_exporter": "python",
   "pygments_lexer": "ipython3",
   "version": "3.6.3"
  }
 },
 "nbformat": 4,
 "nbformat_minor": 1
}

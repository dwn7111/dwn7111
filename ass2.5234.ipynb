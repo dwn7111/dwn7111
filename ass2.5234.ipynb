{
 "cells": [
  {
   "cell_type": "code",
   "execution_count": 44,
   "metadata": {
    "collapsed": true
   },
   "outputs": [],
   "source": [
    "import numpy as np\n",
    "from scipy import linalg as la"
   ]
  },
  {
   "cell_type": "code",
   "execution_count": 49,
   "metadata": {},
   "outputs": [
    {
     "name": "stdout",
     "output_type": "stream",
     "text": [
      "The six classical orbital elements are a e i omegaBig omegasmall nu 1.8465614123555827 [0.00590471 0.24122055 0.08313704] 32.14254540320148 55.343726204607755 37.75522022479292 10.74850808057241\n"
     ]
    }
   ],
   "source": [
    "# Question 1\n",
    "r = [-0.2,1.25,0.55]\n",
    "v = [-0.85,-0.25,0.35] \n",
    "k  = [0,0,1]\n",
    "mu = 1\n",
    "\n",
    "nr = la.norm(r)\n",
    "nv = la.norm(v)\n",
    "\n",
    "ep = nv**2/2 - mu/nr\n",
    "\n",
    "a = -mu/(2*ep)\n",
    "h = np.cross(r,v)\n",
    "ar = np.array(r)\n",
    "\n",
    "e = (1/mu)*(np.cross(v,h)-mu*ar/nr)\n",
    "ne = la.norm(e)\n",
    "i = np.rad2deg(np.arccos(np.dot(h,k)/la.norm(h)))\n",
    "\n",
    "nhat = np.cross(k,h)/la.norm(np.cross(k,h))\n",
    "\n",
    "omegab = np.rad2deg(np.arccos(nhat[0])) \n",
    "omegas = np.rad2deg(np.arccos(np.dot(e,nhat)/(la.norm(e))))\n",
    "\n",
    "nu = np.rad2deg(np.arccos(np.dot(e,r)/(la.norm(e)*la.norm(r))))\n",
    "\n",
    "print('The six classical orbital elements are a e i omegaBig omegasmall nu', a, e, i, omegab, omegas, nu)"
   ]
  },
  {
   "cell_type": "code",
   "execution_count": 56,
   "metadata": {},
   "outputs": [
    {
     "name": "stdout",
     "output_type": "stream",
     "text": [
      "Total delta v is  0.484679338790446\n",
      "The time of flight is 17.159615447613046\n",
      "The required phase angle is 1.6957307590855886 radians\n",
      "The wait time is  91.78586895841451  that is 91 days 18 hours 51 minutes 36 seconds\n"
     ]
    }
   ],
   "source": [
    "# Question 2\n",
    "re = 1\n",
    "rj = 5.203\n",
    "musun = 1\n",
    "tusun = 58.132821\n",
    "n = np.sqrt(musun/rj**3)\n",
    "p0 = np.pi\n",
    "\n",
    "delv1 = np.sqrt(musun/re)*(np.sqrt((2*rj)/(re+rj))-1)\n",
    "delv2 = np.sqrt(musun/rj)*-1*(np.sqrt((2*re)/(re+rj))-1)\n",
    "\n",
    "tof = np.pi*np.sqrt((re+rj)**3/(8*musun))\n",
    "pp = np.pi - tof*n\n",
    "pdot = np.sqrt(musun)/np.sqrt(rj**3)- np.sqrt(musun)/np.sqrt(re**3) \n",
    "tb = (pp - p0)/pdot*tusun\n",
    "\n",
    "print('Total delta v is ', delv1+delv2)\n",
    "print('The time of flight is', tof)\n",
    "print('The required phase angle is', pp,'radians')\n",
    "print('The wait time is ', tb, \" that is 91 days 18 hours 51 minutes 36 seconds\")"
   ]
  },
  {
   "cell_type": "code",
   "execution_count": 57,
   "metadata": {},
   "outputs": [
    {
     "name": "stdout",
     "output_type": "stream",
     "text": [
      "we'll need to apply the maneuver at 4469367.925429896 seconds or 51 days 43 minutes 48 seconds\n",
      "The annual delta v requirement is 0.012946154048832625\n"
     ]
    }
   ],
   "source": [
    "# Quesion 4\n",
    "rp = 7098\n",
    "e = 0.02\n",
    "i = 52\n",
    "j2 = 0.001082\n",
    "re = 6378\n",
    "mu = 3.986012e5\n",
    "a = 0.5*(rp + (rp/(1-e)*(1+e)))\n",
    "p = a*(1-e**2)\n",
    "n = np.sqrt(mu/a**3)\n",
    "delomega = -2.5\n",
    "dom = -((3*n*j2*re**2)/(2*a**2*(1-e**2)**2))*(5/2*np.sin(i)**2 - 2)\n",
    "\n",
    "deltat = delomega/dom\n",
    "deltav = 2*e*np.sqrt(mu/p)*np.sin(np.deg2rad(5/2))\n",
    "print(\"we'll need to apply the maneuver at\", deltat,\"seconds or 51 days 43 minutes 48 seconds\")\n",
    "print(\"The annual delta v requirement is\", deltav)"
   ]
  }
 ],
 "metadata": {
  "kernelspec": {
   "display_name": "Python 3",
   "language": "python",
   "name": "python3"
  },
  "language_info": {
   "codemirror_mode": {
    "name": "ipython",
    "version": 3
   },
   "file_extension": ".py",
   "mimetype": "text/x-python",
   "name": "python",
   "nbconvert_exporter": "python",
   "pygments_lexer": "ipython3",
   "version": "3.6.3"
  }
 },
 "nbformat": 4,
 "nbformat_minor": 2
}

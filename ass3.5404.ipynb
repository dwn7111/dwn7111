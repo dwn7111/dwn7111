{
 "cells": [
  {
   "cell_type": "code",
   "execution_count": 2,
   "metadata": {
    "collapsed": true,
    "tags": []
   },
   "outputs": [],
   "source": [
    "import numpy as np\n",
    "import matplotlib.pyplot as plt\n",
    "from numpy import linalg as la\n",
    "import pandas as pd"
   ]
  },
  {
   "cell_type": "code",
   "execution_count": 3,
   "metadata": {
    "scrolled": true
   },
   "outputs": [
    {
     "name": "stdout",
     "output_type": "stream",
     "text": [
      "[[100000000000.0, 0], [0, 1e-09]]\n",
      "1e+20\n",
      "[[1e-09, 0], [0, 1e-09]]\n",
      "1.0\n",
      "[[100000000000.0, 0], [0, 100000000000.0]]\n",
      "1.0\n",
      "[[1, 2], [2, 4.000000001]]\n",
      "24999967307.56635\n",
      "As we can see the condition number of a1 and a4 is very large ( 1e+20 ) & ( 24999967307.56635 )hence it is an ill conditioned matrix\n"
     ]
    }
   ],
   "source": [
    "#Question 1a\n",
    "a1 = [[10e10, 0],[0,10e-10]]\n",
    "a2 = [[10e-10, 0],[0,10e-10]]\n",
    "a3 = [[10e10, 0],[0,10e10]]\n",
    "a4 = [[1, 2],[2,4 + 10e-10]]\n",
    "\n",
    "print(a1)\n",
    "print(la.cond(a1))\n",
    "print(a2)\n",
    "print(la.cond(a2))\n",
    "print(a3)\n",
    "print(la.cond(a3))\n",
    "print(a4)\n",
    "print(la.cond(a4))\n",
    "print('As we can see the condition number of a1 and a4 is very large','(',la.cond(a1),')','&','(',la.cond(a4),')'\n",
    "      'hence it is an ill conditioned matrix')"
   ]
  },
  {
   "cell_type": "markdown",
   "metadata": {},
   "source": [
    "### Question 1b \n",
    "We can store a sparse matrix effectively by not trying to store the zeros which cosume memory. One of those methods could be creating and using a dictionary of keys."
   ]
  },
  {
   "cell_type": "code",
   "execution_count": 4,
   "metadata": {},
   "outputs": [
    {
     "name": "stdout",
     "output_type": "stream",
     "text": [
      "[[1.         0.5        0.33333333 0.25       0.2        0.16666667\n",
      "  0.14285714 0.125      0.11111111 0.1       ]\n",
      " [0.5        0.33333333 0.25       0.2        0.16666667 0.14285714\n",
      "  0.125      0.11111111 0.1        0.09090909]\n",
      " [0.33333333 0.25       0.2        0.16666667 0.14285714 0.125\n",
      "  0.11111111 0.1        0.09090909 0.08333333]\n",
      " [0.25       0.2        0.16666667 0.14285714 0.125      0.11111111\n",
      "  0.1        0.09090909 0.08333333 0.07692308]\n",
      " [0.2        0.16666667 0.14285714 0.125      0.11111111 0.1\n",
      "  0.09090909 0.08333333 0.07692308 0.07142857]\n",
      " [0.16666667 0.14285714 0.125      0.11111111 0.1        0.09090909\n",
      "  0.08333333 0.07692308 0.07142857 0.06666667]\n",
      " [0.14285714 0.125      0.11111111 0.1        0.09090909 0.08333333\n",
      "  0.07692308 0.07142857 0.06666667 0.0625    ]\n",
      " [0.125      0.11111111 0.1        0.09090909 0.08333333 0.07692308\n",
      "  0.07142857 0.06666667 0.0625     0.05882353]\n",
      " [0.11111111 0.1        0.09090909 0.08333333 0.07692308 0.07142857\n",
      "  0.06666667 0.0625     0.05882353 0.05555556]\n",
      " [0.1        0.09090909 0.08333333 0.07692308 0.07142857 0.06666667\n",
      "  0.0625     0.05882353 0.05555556 0.05263158]]\n",
      "As we can see the condition number of hilbert 10 matrix is very large ( 16024920216487.088 ) hence it is an ill conditioned matrix\n"
     ]
    }
   ],
   "source": [
    "#Question 2a\n",
    "n = 10\n",
    "A = np.empty(shape=(n, n))\n",
    "for i in range(n):\n",
    "    for j in range(n):\n",
    "            A[i,j] = 1.0/(i+j+1)\n",
    "print(A)\n",
    "print('As we can see the condition number of hilbert 10 matrix is very large','(',la.cond(A),')', 'hence it is an ill conditioned matrix')"
   ]
  },
  {
   "cell_type": "code",
   "execution_count": 5,
   "metadata": {},
   "outputs": [
    {
     "data": {
      "image/png": "[encoded data removed]",
      "text/plain": [
       "<matplotlib.figure.Figure at 0x26665622b70>"
      ]
     },
     "metadata": {},
     "output_type": "display_data"
    }
   ],
   "source": [
    "#Question 2b\n",
    "plt.imshow(A)\n",
    "plt.show()"
   ]
  },
  {
   "cell_type": "code",
   "execution_count": 6,
   "metadata": {
    "collapsed": true,
    "jupyter": {
     "outputs_hidden": true
    }
   },
   "outputs": [],
   "source": [
    "#Question 2c\n",
    "x = np.array([[1,1,1,1,1,1,1,1,1,1]]).T\n",
    "b = A*x\n",
    "delb = np.array([[10e-6,0,0,0,0,0,0,0,0,0]]).T\n",
    "E = np.zeros(shape=(n, n))\n",
    "E[0,0] = 10e-6\n",
    "xh1 = b/(A+E)\n",
    "xh2 = (b + delb)/A"
   ]
  },
  {
   "cell_type": "code",
   "execution_count": 7,
   "metadata": {
    "scrolled": false
   },
   "outputs": [
    {
     "name": "stdout",
     "output_type": "stream",
     "text": [
      "[[0.99999 1.      1.      1.      1.      1.      1.      1.      1.\n",
      "  1.     ]\n",
      " [1.      1.      1.      1.      1.      1.      1.      1.      1.\n",
      "  1.     ]\n",
      " [1.      1.      1.      1.      1.      1.      1.      1.      1.\n",
      "  1.     ]\n",
      " [1.      1.      1.      1.      1.      1.      1.      1.      1.\n",
      "  1.     ]\n",
      " [1.      1.      1.      1.      1.      1.      1.      1.      1.\n",
      "  1.     ]\n",
      " [1.      1.      1.      1.      1.      1.      1.      1.      1.\n",
      "  1.     ]\n",
      " [1.      1.      1.      1.      1.      1.      1.      1.      1.\n",
      "  1.     ]\n",
      " [1.      1.      1.      1.      1.      1.      1.      1.      1.\n",
      "  1.     ]\n",
      " [1.      1.      1.      1.      1.      1.      1.      1.      1.\n",
      "  1.     ]\n",
      " [1.      1.      1.      1.      1.      1.      1.      1.      1.\n",
      "  1.     ]]\n",
      "[[1.00001 1.00002 1.00003 1.00004 1.00005 1.00006 1.00007 1.00008 1.00009\n",
      "  1.0001 ]\n",
      " [1.      1.      1.      1.      1.      1.      1.      1.      1.\n",
      "  1.     ]\n",
      " [1.      1.      1.      1.      1.      1.      1.      1.      1.\n",
      "  1.     ]\n",
      " [1.      1.      1.      1.      1.      1.      1.      1.      1.\n",
      "  1.     ]\n",
      " [1.      1.      1.      1.      1.      1.      1.      1.      1.\n",
      "  1.     ]\n",
      " [1.      1.      1.      1.      1.      1.      1.      1.      1.\n",
      "  1.     ]\n",
      " [1.      1.      1.      1.      1.      1.      1.      1.      1.\n",
      "  1.     ]\n",
      " [1.      1.      1.      1.      1.      1.      1.      1.      1.\n",
      "  1.     ]\n",
      " [1.      1.      1.      1.      1.      1.      1.      1.      1.\n",
      "  1.     ]\n",
      " [1.      1.      1.      1.      1.      1.      1.      1.      1.\n",
      "  1.     ]]\n",
      "[[1. 1. 1. 1. 1. 1. 1. 1. 1. 1.]\n",
      " [1. 1. 1. 1. 1. 1. 1. 1. 1. 1.]\n",
      " [1. 1. 1. 1. 1. 1. 1. 1. 1. 1.]\n",
      " [1. 1. 1. 1. 1. 1. 1. 1. 1. 1.]\n",
      " [1. 1. 1. 1. 1. 1. 1. 1. 1. 1.]\n",
      " [1. 1. 1. 1. 1. 1. 1. 1. 1. 1.]\n",
      " [1. 1. 1. 1. 1. 1. 1. 1. 1. 1.]\n",
      " [1. 1. 1. 1. 1. 1. 1. 1. 1. 1.]\n",
      " [1. 1. 1. 1. 1. 1. 1. 1. 1. 1.]\n",
      " [1. 1. 1. 1. 1. 1. 1. 1. 1. 1.]]\n"
     ]
    }
   ],
   "source": [
    "print(xh1)\n",
    "print(xh2)\n",
    "x = b/A\n",
    "print(x)"
   ]
  },
  {
   "cell_type": "markdown",
   "metadata": {},
   "source": [
    "### Question 2c \n",
    "From above comparison we can clearly see the ideal middle solution comes to the x while xhat1 and xhat2 vary by a little amount, almost quidistantly, on the either side of the actual solution."
   ]
  },
  {
   "cell_type": "code",
   "execution_count": 8,
   "metadata": {},
   "outputs": [
    {
     "name": "stdout",
     "output_type": "stream",
     "text": [
      "inequalties\n",
      "9.99990000105644e-07 <= 89748959.91887449\n",
      "9.99990000105644e-07 <= 89748959.91887449\n",
      "1.9621416870356042e-05 <= 89748959.91887449\n",
      "1.9621416870356042e-05 <= 89748959.91887449\n"
     ]
    }
   ],
   "source": [
    "cond1 = la.norm(xh1 - x)/la.norm(x)\n",
    "cond2 = la.norm(xh2 - x)/la.norm(x)\n",
    "cond3 = la.cond(A) * la.norm(E)/la.norm(A)\n",
    "cond4 = la.cond(A) * la.norm(delb)/la.norm(b)\n",
    "print(\"inequalties\")\n",
    "print(cond1,\"<=\",cond3)\n",
    "print(cond1,\"<=\",cond4)\n",
    "\n",
    "print(cond2,\"<=\",cond3)\n",
    "print(cond2,\"<=\",cond4)"
   ]
  },
  {
   "cell_type": "code",
   "execution_count": 9,
   "metadata": {},
   "outputs": [
    {
     "name": "stdout",
     "output_type": "stream",
     "text": [
      "itr 0 x1 ,x2, x3 0.5 4.111111111111111 3.949074074074074\n",
      "itr 1 x1 ,x2, x3 1.8433641975308641 2.7767489711934155 4.396111968449932\n",
      "itr 2 x1 ,x2, x3 1.695476823273891 2.8256696768785248 4.355063399411929\n",
      "itr 3 x1 ,x2, x3 1.6967888460484088 2.8293559471441796 4.3550842159167535\n",
      "itr 4 x1 ,x2, x3 1.697406693843489 2.8289417356691455 4.355273195488444\n",
      "itr 5 x1 ,x2, x3 1.6973691551929315 2.8289457637059963 4.355263475156066\n",
      "itr 6 x1 ,x2, x3 1.6973682064770106 2.828947476220208 4.355263095267569\n",
      "itr 7 x1 ,x2, x3 1.697368428581296 2.8289473703605177 4.355263159615281\n",
      "itr 8 x1 ,x2, x3 1.697368421662633 2.828947367823213 4.355263158097057\n",
      "itr 9 x1 ,x2, x3 1.697368420986712 2.8289473684425186 4.355263157876468\n",
      "itr 10 x1 ,x2, x3 1.6973684210531645 2.8289473684227278 4.355263157894731\n",
      "Converged\n",
      "[3.39977830e-01 2.91997423e-02 7.16471357e-04 1.40470435e-04\n",
      " 7.13528677e-06 3.65000334e-07 4.65464559e-08 1.37708472e-09\n",
      " 1.72575232e-10 1.31232473e-11]\n"
     ]
    },
    {
     "data": {
      "image/png": "[encoded data removed]",
      "text/plain": [
       "<matplotlib.figure.Figure at 0x266658ff2e8>"
      ]
     },
     "metadata": {},
     "output_type": "display_data"
    }
   ],
   "source": [
    "#Question 3a\n",
    "x1 = 0; x2 = 0; x3 = 0\n",
    "eps_a = 0.0000000001\n",
    "converged = False\n",
    "\n",
    "xold = np.array([x1, x2, x3])\n",
    "itr = 0\n",
    "\n",
    "solutions = []\n",
    "\n",
    "while(not converged):\n",
    "    x1 = (3+x2+x3)/6\n",
    "    x2 = (40-x3-6*x1)/9\n",
    "    x3 = (50-x2 +3*x1)/12\n",
    "    \n",
    "    xgnew = np.array([x1, x2, x3])\n",
    "    solutions.append(xgnew)\n",
    "    \n",
    "    print(\"itr\", itr,'x1 ,x2, x3', x1,x2,x3)\n",
    "    itr = itr+ 1\n",
    "    \n",
    "    eps = np.sqrt(np.dot(xgnew-xold, xgnew-xold))\n",
    "    if eps<eps_a:\n",
    "        converged = True\n",
    "        print('Converged')\n",
    "        break\n",
    "    xold=xgnew\n",
    "    \n",
    "solutions = np.array(solutions)\n",
    "rel_err = la.norm(solutions[1:]-solutions[:-1],axis=-1)/la.norm(solutions[:-1],axis=-1)\n",
    "print(rel_err)\n",
    "pd.Series(rel_err).plot()\n",
    "plt.show()"
   ]
  },
  {
   "cell_type": "code",
   "execution_count": 10,
   "metadata": {},
   "outputs": [
    {
     "name": "stdout",
     "output_type": "stream",
     "text": [
      "itr 0 x1 ,x2, x3 [0.45       3.7        3.55416667]\n",
      "itr 1 x1 ,x2, x3 [1.70402778 2.86907407 4.31191744]\n",
      "itr 2 x1 ,x2, x3 [1.69633192 2.83001012 4.3507488 ]\n",
      "itr 3 x1 ,x2, x3 [1.69674315 2.82942136 4.35465067]\n",
      "itr 4 x1 ,x2, x3 [1.69734034 2.8289897  4.35521094]\n",
      "itr 5 x1 ,x2, x3 [1.69736627 2.82895016 4.35525822]\n",
      "itr 6 x1 ,x2, x3 [1.69736801 2.82894774 4.35526261]\n",
      "itr 7 x1 ,x2, x3 [1.69736839 2.82894741 4.3552631 ]\n",
      "itr 8 x1 ,x2, x3 [1.69736842 2.82894737 4.35526315]\n",
      "itr 9 x1 ,x2, x3 [1.69736842 2.82894737 4.35526316]\n",
      "itr 10 x1 ,x2, x3 [1.69736842 2.82894737 4.35526316]\n",
      "itr 11 x1 ,x2, x3 [1.69736842 2.82894737 4.35526316]\n",
      "Converged\n",
      "[3.39977830e-01 2.91997423e-02 7.16471357e-04 1.40470435e-04\n",
      " 7.13528677e-06 3.65000334e-07 4.65464559e-08 1.37708472e-09\n",
      " 1.72575232e-10 1.31232473e-11 3.43975333e-13]\n"
     ]
    },
    {
     "data": {
      "image/png": "[encoded data removed]",
      "text/plain": [
       "<matplotlib.figure.Figure at 0x26665788748>"
      ]
     },
     "metadata": {},
     "output_type": "display_data"
    }
   ],
   "source": [
    "#Question 3b\n",
    "x1 = 0; x2 = 0; x3 = 0\n",
    "eps_a = 0.0000000001\n",
    "converged = False\n",
    "l = 0.9\n",
    "xold = np.array([x1, x2, x3])\n",
    "itr = 0\n",
    "xnl = np.array([x1,x2,x3])\n",
    "\n",
    "solutions = []\n",
    "\n",
    "while not converged:\n",
    "    x1 = (3+x2+x3)/6\n",
    "    x2 = (40-x3-6*x1)/9\n",
    "    x3 = (50-x2 +3*x1)/12\n",
    "    \n",
    "    xgnew = np.array([x1, x2, x3])\n",
    "    solutions.append(xgnew)\n",
    "    \n",
    "    xnl = l*xgnew + (1-l)*xnl\n",
    "    \n",
    "    print(\"itr\", itr,'x1 ,x2, x3', xnl)\n",
    "    itr = itr+ 1\n",
    "    \n",
    "    eps = np.sqrt(np.dot(xnl-xold, xnl-xold))\n",
    "    if eps<eps_a:\n",
    "        converged = True\n",
    "        print('Converged')\n",
    "        break\n",
    "    xold=xnl\n",
    "    \n",
    "solutions = np.array(solutions)\n",
    "rel_err = la.norm(solutions[1:]-solutions[:-1],axis=-1)/la.norm(solutions[:-1],axis=-1)\n",
    "print(rel_err)\n",
    "pd.Series(rel_err).plot()\n",
    "plt.show()"
   ]
  },
  {
   "cell_type": "code",
   "execution_count": 11,
   "metadata": {},
   "outputs": [
    {
     "name": "stdout",
     "output_type": "stream",
     "text": [
      "itr 0 x1 ,x2, x3 [0.55       4.52222222 4.34398148]\n",
      "itr 1 x1 ,x2, x3 [1.97270062 2.60220165 4.40132502]\n",
      "itr 2 x1 ,x2, x3 [1.66775444 2.84801648 4.35043724]\n",
      "itr 3 x1 ,x2, x3 [1.69969229 2.82748989 4.35554891]\n",
      "itr 4 x1 ,x2, x3 [1.69717813 2.82908692 4.35524562]\n",
      "itr 5 x1 ,x2, x3 [1.69738826 2.82893165 4.35526526]\n",
      "itr 6 x1 ,x2, x3 [1.6973662  2.82894906 4.35526288]\n",
      "itr 7 x1 ,x2, x3 [1.69736865 2.8289472  4.35526319]\n",
      "itr 8 x1 ,x2, x3 [1.6973684  2.82894738 4.35526316]\n",
      "itr 9 x1 ,x2, x3 [1.69736842 2.82894737 4.35526316]\n",
      "itr 10 x1 ,x2, x3 [1.69736842 2.82894737 4.35526316]\n",
      "itr 11 x1 ,x2, x3 [1.69736842 2.82894737 4.35526316]\n",
      "itr 12 x1 ,x2, x3 [1.69736842 2.82894737 4.35526316]\n",
      "Converged\n",
      "[3.39977830e-01 2.91997423e-02 7.16471357e-04 1.40470435e-04\n",
      " 7.13528677e-06 3.65000334e-07 4.65464559e-08 1.37708472e-09\n",
      " 1.72575232e-10 1.31232473e-11 3.43975333e-13 6.58543275e-14]\n"
     ]
    },
    {
     "data": {
      "image/png": "[encoded data removed]",
      "text/plain": [
       "<matplotlib.figure.Figure at 0x266659dfba8>"
      ]
     },
     "metadata": {},
     "output_type": "display_data"
    }
   ],
   "source": [
    "#Question 3c\n",
    "x1 = 0; x2 = 0; x3 = 0\n",
    "eps_a = 0.0000000001\n",
    "converged = False\n",
    "l = 1.1\n",
    "xold = np.array([x1, x2, x3])\n",
    "itr = 0\n",
    "xnl2 = np.array([x1,x2,x3])\n",
    "lis = []\n",
    "\n",
    "solutions = []\n",
    "\n",
    "while not converged:\n",
    "    x1 = (3+x2+x3)/6\n",
    "    x2 = (40-x3-6*x1)/9\n",
    "    x3 = (50-x2 +3*x1)/12\n",
    "    \n",
    "    xgnew = np.array([x1, x2, x3])\n",
    "    solutions.append(xgnew)\n",
    "    \n",
    "    xnl2 = l*xgnew + (1-l)*xnl2\n",
    "    \n",
    "    print(\"itr\", itr,'x1 ,x2, x3', xnl2)\n",
    "    itr = itr+ 1\n",
    "    \n",
    "    eps = np.sqrt(np.dot(xnl2-xold, xnl2-xold))\n",
    "    if eps<eps_a:\n",
    "        converged = True\n",
    "        print('Converged')\n",
    "        break\n",
    "    xold=xnl2\n",
    "    \n",
    "solutions = np.array(solutions)\n",
    "rel_err = la.norm(solutions[1:]-solutions[:-1],axis=-1)/la.norm(solutions[:-1],axis=-1)\n",
    "print(rel_err)\n",
    "pd.Series(rel_err).plot()\n",
    "plt.show()"
   ]
  }
 ],
 "metadata": {
  "kernelspec": {
   "display_name": "Python 3",
   "language": "python",
   "name": "python3"
  },
  "language_info": {
   "codemirror_mode": {
    "name": "ipython",
    "version": 3
   },
   "file_extension": ".py",
   "mimetype": "text/x-python",
   "name": "python",
   "nbconvert_exporter": "python",
   "pygments_lexer": "ipython3",
   "version": "3.6.3"
  }
 },
 "nbformat": 4,
 "nbformat_minor": 4
}

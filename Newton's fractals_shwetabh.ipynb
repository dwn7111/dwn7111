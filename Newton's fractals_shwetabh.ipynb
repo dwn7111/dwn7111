{
 "cells": [
  {
   "cell_type": "code",
   "execution_count": 9,
   "metadata": {},
   "outputs": [
    {
     "data": {
      "image/png": "[encoded data removed]",
      "text/plain": [
       "<PIL.Image.Image image mode=RGB size=400x400 at 0x1FE87DEE470>"
      ]
     },
     "execution_count": 9,
     "metadata": {},
     "output_type": "execute_result"
    }
   ],
   "source": [
    "from PIL import Image\n",
    "import math\n",
    "\n",
    "lenx = 400 # width\n",
    "leny = 400 # height\n",
    "\n",
    "image = Image.new(\"RGB\", (lenx, leny)) \n",
    "\n",
    "\n",
    "# square boundary\n",
    "x1 = -2.0 \n",
    "x2 = 2.0\n",
    "y1 = -2.0\n",
    "y2 = 2.0\n",
    "\n",
    "\n",
    "# 3 cube roots of 1\n",
    "z1 = 1\n",
    "z2 = complex(-0.5, math.sin(2*math.pi/3))\n",
    "z3 = complex(-0.5, -1*math.sin(2*math.pi/3))\n",
    "\n",
    "\n",
    "\n",
    "it = 25 # max iterations \n",
    "h = 1e-6 # step size for diff\n",
    "err = 1e-3  # precision  \n",
    "\n",
    "\n",
    "# cube function\n",
    "def f(z):\n",
    "    return z**3 -1  \n",
    "\n",
    "for y in range(leny):\n",
    "    zy = y * (y2 - y1) / (leny - 1) + y1\n",
    "    \n",
    "    for x in range(lenx):\n",
    "        zx = x * (x2 - x1) / (lenx - 1) + x1\n",
    "        \n",
    "        z = complex(zx, zy)\n",
    "        \n",
    "        for i in range(it): \n",
    "            \n",
    "            dz = (f(z + complex(h, h)) - f(z)) / complex(h, h) # differential of cubic function\n",
    "            \n",
    "            z0 = z - f(z) / dz  # transformation\n",
    "            \n",
    "            \n",
    "            if abs(z0 -z)< err: # error stop\n",
    "                break\n",
    "\n",
    "            z = z0\n",
    "            \n",
    "            \n",
    "        # error values\n",
    "        diff_r1 = abs(z-z1) \n",
    "        diff_r2 = abs(z-z2)\n",
    "        diff_r3 = abs(z-z3)\n",
    "        \n",
    "        \n",
    "        #taking min of three values and assigning colors to it\n",
    "        \n",
    "        diff_min = min(diff_r1,diff_r2,diff_r3) \n",
    "        \n",
    "        if(diff_r1==diff_min):\n",
    "            image.putpixel((x, y), (255,0,0))\n",
    "            \n",
    "        elif(diff_r2==diff_min):\n",
    "            image.putpixel((x, y), (0,255,0))\n",
    "            \n",
    "        elif(diff_r3==diff_min):\n",
    "            image.putpixel((x, y), (0,0,255))\n",
    "\n",
    "\n",
    "# print           \n",
    "image"
   ]
  },
  {
   "cell_type": "code",
   "execution_count": null,
   "metadata": {
    "collapsed": true
   },
   "outputs": [],
   "source": []
  }
 ],
 "metadata": {
  "kernelspec": {
   "display_name": "Python 3",
   "language": "python",
   "name": "python3"
  },
  "language_info": {
   "codemirror_mode": {
    "name": "ipython",
    "version": 3
   },
   "file_extension": ".py",
   "mimetype": "text/x-python",
   "name": "python",
   "nbconvert_exporter": "python",
   "pygments_lexer": "ipython3",
   "version": "3.6.3"
  }
 },
 "nbformat": 4,
 "nbformat_minor": 2
}

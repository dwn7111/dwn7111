{
 "cells": [
  {
   "cell_type": "code",
   "execution_count": 1,
   "metadata": {},
   "outputs": [
    {
     "name": "stdout",
     "output_type": "stream",
     "text": [
      "Mean 122.73\n",
      "Stdev 308.505133021\n"
     ]
    }
   ],
   "source": [
    "#Q1\n",
    "import numpy as np\n",
    "# for n = 10\n",
    "\n",
    "k = [] #counter storing list, turns\n",
    "\n",
    "for _ in range(100):\n",
    "    count=0 # initial count\n",
    "    n = 10\n",
    "    itt = 1000 # iteration\n",
    "    d = [] # deck list\n",
    "    for j in range(itt):\n",
    "        count = count + 1 #counter\n",
    "\n",
    "        if len(d) == n: #when all coupons are collected\n",
    "            break\n",
    "        else :   #if not, stored \n",
    "            for i in range(0,n+1):\n",
    "\n",
    "                c = np.random.randint(0,n+1) \n",
    "\n",
    "                if c in d: #if it is already there\n",
    "                    break\n",
    "\n",
    "                else:    \n",
    "                    d.append(c)\n",
    "    k.append(count) #number of turns\n",
    "                \n",
    "                \n",
    "mean = sum(k)/100    #mean turns\n",
    "\n",
    "meansquare = mean**2\n",
    "ksq = [x**2 for x in k]\n",
    "x2 = sum(ksq)/100\n",
    "\n",
    "var = x2 - meansquare #variance\n",
    "stdev = np.sqrt(var) #standard deviation\n",
    "\n",
    "print(\"Mean\",mean)\n",
    "print(\"Stdev\", stdev)"
   ]
  },
  {
   "cell_type": "code",
   "execution_count": 2,
   "metadata": {
    "scrolled": true
   },
   "outputs": [
    {
     "name": "stdout",
     "output_type": "stream",
     "text": [
      "Mean 329.63\n",
      "Stdev 75.6623625061\n"
     ]
    }
   ],
   "source": [
    "#Q1 for n = 100\n",
    "import numpy as np\n",
    "k1 = []\n",
    "for _ in range(100):\n",
    "    count1 = 0\n",
    "    n1 = 100\n",
    "    d1 = []\n",
    "    itt = 1000\n",
    "    for j in range(itt):\n",
    "        count1 = count1 + 1\n",
    "        if len(d1) == n1:\n",
    "            break\n",
    "        else :    \n",
    "            for i in range(0,n1+1):\n",
    "\n",
    "\n",
    "                c = np.random.randint(0,n1+1)\n",
    "\n",
    "                if c in d1:\n",
    "                    break\n",
    "\n",
    "                else:    \n",
    "                    d1.append(c)\n",
    "    k1.append(count1)\n",
    "    \n",
    "mean1 = sum(k1)/100\n",
    "meansquare1 = mean1**2\n",
    "ksq1 = [x**2 for x in k1]\n",
    "x21 = sum(ksq1)/100\n",
    "\n",
    "var1 = x21 - meansquare1 #variance\n",
    "stdev1 = np.sqrt(var1) #standard deviation\n",
    "\n",
    "print(\"Mean\",mean1)\n",
    "print(\"Stdev\", stdev1)"
   ]
  },
  {
   "cell_type": "code",
   "execution_count": 3,
   "metadata": {},
   "outputs": [
    {
     "name": "stdout",
     "output_type": "stream",
     "text": [
      "Mean 132.99\n",
      "Stdev 41.818296235\n"
     ]
    }
   ],
   "source": [
    "#Q1 for n = 50\n",
    "import numpy as np\n",
    "k2 = []\n",
    "for _ in range(100):\n",
    "    count2 = 0\n",
    "    n2 = 50\n",
    "    d2 = []\n",
    "    itt = 1000\n",
    "    for j in range(itt):\n",
    "        count2 = count2 + 1\n",
    "        if len(d2) == n2:\n",
    "            break\n",
    "        else :    \n",
    "            for i in range(0,n2+1):\n",
    "\n",
    "\n",
    "                c = np.random.randint(0,n2+1)\n",
    "\n",
    "                if c in d2:\n",
    "                    break\n",
    "\n",
    "                else:    \n",
    "                    d2.append(c)\n",
    "    k2.append(count2)\n",
    "\n",
    "mean2 = sum(k2)/100\n",
    "meansquare2 = mean2**2\n",
    "ksq2 = [x**2 for x in k2]\n",
    "x22 = sum(ksq2)/100\n",
    "\n",
    "var2 = x22 - meansquare2 #variance\n",
    "stdev2 = np.sqrt(var2) #standard deviation\n",
    "\n",
    "print(\"Mean\",mean2)\n",
    "print(\"Stdev\", stdev2)"
   ]
  },
  {
   "cell_type": "code",
   "execution_count": 45,
   "metadata": {
    "scrolled": true
   },
   "outputs": [
    {
     "data": {
      "image/png": "[encoded data removed]",
      "text/plain": [
       "<matplotlib.figure.Figure at 0x1b506c45400>"
      ]
     },
     "metadata": {},
     "output_type": "display_data"
    }
   ],
   "source": [
    "import matplotlib.pyplot as plt\n",
    "meanvalues= [122.73, 132.99,329.63 ]\n",
    "nvalues = [10,50,100]\n",
    "\n",
    "plt.plot(nvalues, meanvalues,\"o\")\n",
    "plt.show()"
   ]
  },
  {
   "cell_type": "markdown",
   "metadata": {},
   "source": [
    "The mean waiting time seems to be increasing exponentially with increasing n values "
   ]
  },
  {
   "cell_type": "code",
   "execution_count": 41,
   "metadata": {
    "collapsed": true,
    "scrolled": false
   },
   "outputs": [],
   "source": [
    "#Q2\n",
    "import random\n",
    "import matplotlib.pyplot as plt\n",
    "\n",
    "l = 10 \n",
    "n = 5\n",
    "tries = 10000\n",
    "\n",
    "arr = [[0 for x in range(0,2*l+1)] for x in range(0,2*l+1)] #2D array of 2l+1 x 2l+1\n",
    "\n",
    "for x in range(0,tries):\n",
    "    pos_x = l #center position\n",
    "    pos_y = l \n",
    "    for y in range(n):\n",
    "        if(random.randint(1,2)==1): #either step will happen in x or in y\n",
    "            #Vertical Move\n",
    "            pos_y = pos_y + [-1,1][random.randint(0,1)] #random step in y\n",
    "        else:\n",
    "            #Horizontal Move\n",
    "            pos_x = pos_x + [-1,1][random.randint(0,1)] #random step in x\n",
    "    arr[pos_x][pos_y] = arr[pos_x][pos_y] + 1\n",
    "\n",
    "for x in range(2*l+1):\n",
    "    for y in range(2*l+1):\n",
    "        arr[x][y] = arr[x][y]/tries # probabilities of end points of walker\n",
    "\n",
    "# right now arr can be printed to see the probability values on different xy "
   ]
  },
  {
   "cell_type": "code",
   "execution_count": 46,
   "metadata": {
    "scrolled": true
   },
   "outputs": [
    {
     "data": {
      "image/png": "[encoded data removed]",
      "text/plain": [
       "<matplotlib.figure.Figure at 0x1b506c9a710>"
      ]
     },
     "metadata": {},
     "output_type": "display_data"
    }
   ],
   "source": [
    "# surface plot\n",
    "\n",
    "import matplotlib.pyplot as plt\n",
    "%matplotlib inline\n",
    "from mpl_toolkits.mplot3d import Axes3D \n",
    "from matplotlib import cm\n",
    "\n",
    "fig = plt.figure()\n",
    "ax = fig.gca(projection='3d')\n",
    "\n",
    "A = np.arange(-10, 11, 1)\n",
    "B = np.arange(-10, 11, 1)\n",
    "\n",
    "x, y = np.meshgrid(A,B)\n",
    "\n",
    "z = np.array(arr)\n",
    "\n",
    "surf = ax.plot_surface(x, y, z, cmap=cm.coolwarm,linewidth=0, antialiased=False)\n",
    "fig.colorbar(surf, shrink=0.5, aspect=5)\n",
    "plt.show()"
   ]
  },
  {
   "cell_type": "code",
   "execution_count": 5,
   "metadata": {},
   "outputs": [
    {
     "name": "stdout",
     "output_type": "stream",
     "text": [
      "Prob 0.01\n",
      "Expected value 1.93\n"
     ]
    }
   ],
   "source": [
    "#Q3\n",
    "import numpy as np\n",
    "\n",
    "jack = 0 # giving jack a static value\n",
    "\n",
    "t = []\n",
    "\n",
    "n = 6 # number of people in party\n",
    "\n",
    "it = 100\n",
    "for x in range(it):\n",
    "    \n",
    "    a = []\n",
    "    for i in range(0,n+1):\n",
    "        \n",
    "        j = np.random.randint(0,n+1) #choosing random member from party\n",
    "\n",
    "        if j in a: # if rumor is repeated to any one whos already heard it\n",
    "            break\n",
    "            \n",
    "        elif j == jack: # if the rumor is repeated to jack\n",
    "            break\n",
    "            \n",
    "        else:    # if not, then passed on\n",
    "            a.append(j)\n",
    "            \n",
    "    t.append(len(a))\n",
    "ev = np.mean(t) #expected value\n",
    "num = t.count(n) \n",
    "\n",
    "p = num/it #probability\n",
    "\n",
    "print(\"Prob\",float(p))\n",
    "print(\"Expected value\", ev)"
   ]
  }
 ],
 "metadata": {
  "kernelspec": {
   "display_name": "Python 3",
   "language": "python",
   "name": "python3"
  },
  "language_info": {
   "codemirror_mode": {
    "name": "ipython",
    "version": 3
   },
   "file_extension": ".py",
   "mimetype": "text/x-python",
   "name": "python",
   "nbconvert_exporter": "python",
   "pygments_lexer": "ipython3",
   "version": "3.6.3"
  }
 },
 "nbformat": 4,
 "nbformat_minor": 2
}

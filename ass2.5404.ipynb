{
 "cells": [
  {
   "cell_type": "code",
   "execution_count": 2,
   "metadata": {
    "collapsed": true
   },
   "outputs": [],
   "source": [
    "#libraries\n",
    "import numpy as np\n",
    "import matplotlib.pyplot as plt\n",
    "from scipy.linalg import lu as lu\n",
    "from numpy import linalg as la"
   ]
  },
  {
   "cell_type": "code",
   "execution_count": 3,
   "metadata": {},
   "outputs": [
    {
     "data": {
      "image/png": "[encoded data removed]",
      "text/plain": [
       "<matplotlib.figure.Figure at 0x1a37b3ea780>"
      ]
     },
     "metadata": {},
     "output_type": "display_data"
    }
   ],
   "source": [
    "#Question 1a\n",
    "x = np.linspace(-5,5,100)\n",
    "y = -1+x-0.5*np.sin(x)\n",
    "plt.plot(x,y)\n",
    "plt.axhline(y=0, color='k')\n",
    "plt.axvline(x=0,color='k')\n",
    "plt.show()"
   ]
  },
  {
   "cell_type": "code",
   "execution_count": 4,
   "metadata": {
    "collapsed": true
   },
   "outputs": [],
   "source": [
    "f = lambda x : x-0.5*np.sin(x)-1\n",
    "f_dash = lambda x : 1-0.5*np.cos(x)"
   ]
  },
  {
   "cell_type": "code",
   "execution_count": 5,
   "metadata": {},
   "outputs": [
    {
     "name": "stdout",
     "output_type": "stream",
     "text": [
      "1.4987068176269531\n",
      "[3.0, 1.5, 0.75, 1.125, 1.3125, 1.40625, 1.453125, 1.4765625, 1.48828125, 1.494140625, 1.4970703125, 1.49853515625, 1.499267578125, 1.4989013671875, 1.49871826171875, 1.498626708984375, 1.4986724853515625, 1.4986953735351562, 1.4987068176269531]\n"
     ]
    },
    {
     "data": {
      "image/png": "[encoded data removed]",
      "text/plain": [
       "<matplotlib.figure.Figure at 0x1a37b4be630>"
      ]
     },
     "metadata": {},
     "output_type": "display_data"
    },
    {
     "name": "stdout",
     "output_type": "stream",
     "text": [
      "The root using bisection method is 1.4987068176269531 after 19 iterations\n"
     ]
    }
   ],
   "source": [
    "#Question 1b\n",
    "#Bisection method\n",
    "#Parameters/Inputs\n",
    "a = 0\n",
    "b = 6\n",
    "itr = 0\n",
    "eps_a = 0.000005\n",
    "list = []\n",
    "elist = []\n",
    "\n",
    "#Method\n",
    "converged = False\n",
    "while(not converged):\n",
    "    c = (a+b)/2\n",
    "    itr = itr+ 1\n",
    "    if(f(c)>0):\n",
    "        b=c\n",
    "    else:\n",
    "        a=c\n",
    "    \n",
    "    converged1 = (f(c)==0)\n",
    "    converged2 = (abs(c-((a+b)/2))/abs(c)) < eps_a\n",
    "    converged = converged1 or converged2\n",
    "    list.append(c)\n",
    "print(c)\n",
    "for i in range(len(list)):\n",
    "    elist.append (abs(list[i]-c)/abs(c))  \n",
    "plt.plot(elist)\n",
    "plt.show()\n",
    "print(\"The root using bisection method is\",c, \"after\",itr, \"iterations\")"
   ]
  },
  {
   "cell_type": "code",
   "execution_count": 6,
   "metadata": {},
   "outputs": [
    {
     "name": "stdout",
     "output_type": "stream",
     "text": [
      "The rate of convergence is:  1.0\n"
     ]
    }
   ],
   "source": [
    "#convergence\n",
    "i = len(list)-2\n",
    "rate_of_c = np.log10(abs(list[i+1]-list[i])/abs(list[i]-list[i-1]))/np.log10(abs(list[i]-list[i-1])/abs(list[i-1]-list[i-2]))\n",
    "i = i + 1\n",
    "print(\"The rate of convergence is: \", rate_of_c)"
   ]
  },
  {
   "cell_type": "code",
   "execution_count": 7,
   "metadata": {},
   "outputs": [
    {
     "name": "stdout",
     "output_type": "stream",
     "text": [
      "1.4987011335179377\n"
     ]
    },
    {
     "data": {
      "image/png": "[encoded data removed]",
      "text/plain": [
       "<matplotlib.figure.Figure at 0x1a37b5065f8>"
      ]
     },
     "metadata": {},
     "output_type": "display_data"
    },
    {
     "name": "stdout",
     "output_type": "stream",
     "text": [
      "The root using Newton raphson method is 1.4987011335179377 after 4 iterations\n"
     ]
    }
   ],
   "source": [
    "#Question 1c\n",
    "#Newton Raphson\n",
    "#Parameters/Inputs\n",
    "x = 1\n",
    "eps_a = 0.000005\n",
    "\n",
    "xt = 0.517757385969162\n",
    "list5 = []\n",
    "elist5 = []\n",
    "itr = 0\n",
    "\n",
    "#Method\n",
    "converged = False\n",
    "while(not converged):\n",
    "    itr +=1\n",
    "    x_o = x\n",
    "    x = x - f(x)/f_dash(x)\n",
    "    converged = (abs(x-x_o)/abs(x)) < eps_a\n",
    "    \n",
    "    list5.append(x)\n",
    "print(x)\n",
    "for i in range(len(list5)):\n",
    "    elist5.append(abs(list5[i]-x)/abs(x))  \n",
    "plt.plot(elist5)\n",
    "plt.show()\n",
    "print(\"The root using Newton raphson method is\",x, \"after\",itr, \"iterations\")"
   ]
  },
  {
   "cell_type": "code",
   "execution_count": 8,
   "metadata": {},
   "outputs": [
    {
     "name": "stdout",
     "output_type": "stream",
     "text": [
      "1.4987011335178508\n"
     ]
    },
    {
     "data": {
      "image/png": "[encoded data removed]",
      "text/plain": [
       "<matplotlib.figure.Figure at 0x1a3621e8358>"
      ]
     },
     "metadata": {},
     "output_type": "display_data"
    },
    {
     "name": "stdout",
     "output_type": "stream",
     "text": [
      "The root using Newton raphson method is 1.4987011335178508 after 5 iterations\n"
     ]
    }
   ],
   "source": [
    "#Question 1d\n",
    "#Newton Raphson\n",
    "\n",
    "#Parameters/Inputs\n",
    "x = 0\n",
    "eps_a = 0.000005\n",
    "\n",
    "xt = 0.517757385969162\n",
    "list5 = []\n",
    "elist5 = []\n",
    "itr = 0\n",
    "\n",
    "#Method\n",
    "converged = False\n",
    "while(not converged):\n",
    "    itr +=1\n",
    "    x_o = x\n",
    "    x = x - f(x)/f_dash(x)\n",
    "    converged = (abs(x-x_o)/abs(x)) < eps_a\n",
    "    \n",
    "    list5.append(x)\n",
    "print(x)\n",
    "for i in range(len(list5)):\n",
    "    elist5.append(abs(list5[i]-x)/abs(x))  \n",
    "plt.plot(elist5)\n",
    "plt.show()\n",
    "print(\"The root using Newton raphson method is\",x, \"after\",itr, \"iterations\")"
   ]
  },
  {
   "cell_type": "code",
   "execution_count": 16,
   "metadata": {},
   "outputs": [
    {
     "name": "stdout",
     "output_type": "stream",
     "text": [
      "The rate of convergence is:  2.0003283388006854\n",
      "The number of interations required for bisection method is 19 iterations and 5 iterations for Newton method, which is the faster method because it converges quadratically.\n"
     ]
    }
   ],
   "source": [
    "#convergence\n",
    "i = len(list5)-2\n",
    "rate_of_c = np.log10(abs(list5[i+1]-list5[i])/abs(list5[i]-list5[i-1]))/np.log10(abs(list5[i]-list5[i-1])/abs(list5[i-1]-list5[i-2]))\n",
    "i = i + 1\n",
    "print(\"The rate of convergence is: \", rate_of_c)\n",
    "print(\"The number of interations required for bisection method is 19 iterations and 5 iterations for Newton method, which is the faster method because it converges quadratically.\")"
   ]
  },
  {
   "cell_type": "code",
   "execution_count": 4,
   "metadata": {},
   "outputs": [
    {
     "name": "stdout",
     "output_type": "stream",
     "text": [
      "[[10  9  8  7  6  5  4  3  2]\n",
      " [ 9  9  8  7  6  5  4  3  2]\n",
      " [ 0  8  8  7  6  5  4  3  2]\n",
      " [ 0  0  7  7  6  5  4  3  2]\n",
      " [ 0  0  0  6  6  5  4  3  2]\n",
      " [ 0  0  0  0  5  5  4  3  2]\n",
      " [ 0  0  0  0  0  4  4  3  2]\n",
      " [ 0  0  0  0  0  0  3  3  2]\n",
      " [ 0  0  0  0  0  0  0  2  2]]\n",
      "0\n",
      "1\n",
      "2\n",
      "3\n",
      "4\n",
      "5\n",
      "6\n",
      "7\n",
      "8\n"
     ]
    }
   ],
   "source": [
    "#Question 3b\n",
    "n = 9\n",
    "A = np.empty(shape=(n, n), dtype=int)\n",
    "for i in range(n):\n",
    "    for j in range(n):\n",
    "        if i <= j+1:\n",
    "            A[i, j] = n + 1 - max(i,j)\n",
    "        elif i > j+1:\n",
    "            A[i, j] = 0\n",
    "print(A)            "
   ]
  },
  {
   "cell_type": "code",
   "execution_count": 11,
   "metadata": {},
   "outputs": [
    {
     "name": "stdout",
     "output_type": "stream",
     "text": [
      "35.0 54.0 34.64031968712229 38.52272056851645\n"
     ]
    }
   ],
   "source": [
    "#Question 3c\n",
    "norm1 = la.norm(A,1)\n",
    "norminf = la.norm(A,np.inf)\n",
    "norm2 = la.norm(A,2)\n",
    "normfro = la.norm(A,'fro')\n",
    "print(norm1,norminf,norm2,normfro)"
   ]
  },
  {
   "cell_type": "code",
   "execution_count": 12,
   "metadata": {},
   "outputs": [
    {
     "name": "stdout",
     "output_type": "stream",
     "text": [
      "Inequality 1 34.64031968712229 <= 38.52272056851645 <= 103.92095906136689\n",
      "Inequality 2 18.0 <= 34.64031968712229 <= 162.0\n",
      "Inequality 3 11.666666666666666 <= 35.0 <= 105.0\n"
     ]
    }
   ],
   "source": [
    "#Question 3c\n",
    "print(\"Inequality 1\",norm2,\"<=\",normfro,\"<=\",np.sqrt(n)*norm2)\n",
    "print(\"Inequality 2\",(1/np.sqrt(n))*norminf,\"<=\",norm2,\"<=\",np.sqrt(n)*norminf)\n",
    "print(\"Inequality 3\",(1/np.sqrt(n))*norm1,\"<=\",norm1,\"<=\",np.sqrt(n)*norm1)"
   ]
  },
  {
   "cell_type": "code",
   "execution_count": 13,
   "metadata": {},
   "outputs": [
    {
     "name": "stdout",
     "output_type": "stream",
     "text": [
      "[[11 10  9  8  7  6  5  4  3  2]\n",
      " [10 10  9  8  7  6  5  4  3  2]\n",
      " [ 0  9  9  8  7  6  5  4  3  2]\n",
      " [ 0  0  8  8  7  6  5  4  3  2]\n",
      " [ 0  0  0  7  7  6  5  4  3  2]\n",
      " [ 0  0  0  0  6  6  5  4  3  2]\n",
      " [ 0  0  0  0  0  5  5  4  3  2]\n",
      " [ 0  0  0  0  0  0  4  4  3  2]\n",
      " [ 0  0  0  0  0  0  0  3  3  2]\n",
      " [ 0  0  0  0  0  0  0  0  2  2]]\n"
     ]
    }
   ],
   "source": [
    "#Question 3d\n",
    "n = 10\n",
    "A1 = np.empty(shape=(n, n), dtype=int)\n",
    "for i in range(n):\n",
    "    for j in range(n):\n",
    "        if i <= j+1:\n",
    "            A1[i, j] = n + 1 - max(i,j)\n",
    "        elif i > j+1:\n",
    "            A1[i, j] = 0\n",
    "print(A1)  "
   ]
  },
  {
   "cell_type": "code",
   "execution_count": 14,
   "metadata": {},
   "outputs": [
    {
     "name": "stdout",
     "output_type": "stream",
     "text": [
      "[[11. 10.  9.  8.  7.  6.  5.  4.  3.  2.]\n",
      " [ 0.  0.  0.  0.  0.  0.  0.  0.  2.  2.]\n",
      " [10. 10.  9.  8.  7.  6.  5.  4.  3.  2.]\n",
      " [ 0.  9.  9.  8.  7.  6.  5.  4.  3.  2.]\n",
      " [ 0.  0.  8.  8.  7.  6.  5.  4.  3.  2.]\n",
      " [ 0.  0.  0.  7.  7.  6.  5.  4.  3.  2.]\n",
      " [ 0.  0.  0.  0.  6.  6.  5.  4.  3.  2.]\n",
      " [ 0.  0.  0.  0.  0.  5.  5.  4.  3.  2.]\n",
      " [ 0.  0.  0.  0.  0.  0.  4.  4.  3.  2.]\n",
      " [ 0.  0.  0.  0.  0.  0.  0.  3.  3.  2.]]\n",
      "[[11. 10.  9.  8.  7.  6.  5.  4.  3.  2.]\n",
      " [ 0.  9.  9.  8.  7.  6.  5.  4.  3.  2.]\n",
      " [ 0.  0.  8.  8.  7.  6.  5.  4.  3.  2.]\n",
      " [ 0.  0.  0.  7.  7.  6.  5.  4.  3.  2.]\n",
      " [ 0.  0.  0.  0.  6.  6.  5.  4.  3.  2.]\n",
      " [ 0.  0.  0.  0.  0.  5.  5.  4.  3.  2.]\n",
      " [ 0.  0.  0.  0.  0.  0.  4.  4.  3.  2.]\n",
      " [ 0.  0.  0.  0.  0.  0.  0.  3.  3.  2.]\n",
      " [ 0.  0.  0.  0.  0.  0.  0.  0.  2.  2.]\n",
      " [10. 10.  9.  8.  7.  6.  5.  4.  3.  2.]]\n"
     ]
    }
   ],
   "source": [
    "[P,L,U] = lu(A1)\n",
    "print(np.dot(P,A1))\n",
    "print(np.dot(L,U))"
   ]
  }
 ],
 "metadata": {
  "kernelspec": {
   "display_name": "Python 3",
   "language": "python",
   "name": "python3"
  },
  "language_info": {
   "codemirror_mode": {
    "name": "ipython",
    "version": 3
   },
   "file_extension": ".py",
   "mimetype": "text/x-python",
   "name": "python",
   "nbconvert_exporter": "python",
   "pygments_lexer": "ipython3",
   "version": "3.6.3"
  }
 },
 "nbformat": 4,
 "nbformat_minor": 2
}

{
 "cells": [
  {
   "cell_type": "code",
   "execution_count": 2,
   "metadata": {
    "scrolled": true
   },
   "outputs": [
    {
     "data": {
      "text/plain": [
       "[1.7900552012552307,\n",
       " 1.1189698705442801,\n",
       " 1.0626895640216876,\n",
       " 1.1012346214156645,\n",
       " 1.1095806687413416,\n",
       " 1.0110479069979208]"
      ]
     },
     "execution_count": 2,
     "metadata": {},
     "output_type": "execute_result"
    }
   ],
   "source": [
    "# Q1 (a)\n",
    "import numpy as np \n",
    "\n",
    "N = [3, 10, 100, 1000, 10000, 1000000] # Diff N values\n",
    "\n",
    "jk = [] # empty list that will be our final answer\n",
    "\n",
    "a = 0 # lower limit\n",
    "b = 10 # upper limit\n",
    "\n",
    "\n",
    "def f(x):\n",
    "    return np.exp(-x) + (x/1000)**3 # integral function\n",
    "\n",
    "mid = 0.5*(f(a) + f(b))\n",
    "\n",
    "for i in N:\n",
    "    \n",
    "    for j in range(1, i+1):\n",
    "        \n",
    "        s = (b - a)/i # step size\n",
    "        \n",
    "        step = f(a + j*s) #incremental step\n",
    "        \n",
    "        mid = mid + step\n",
    "        \n",
    "        I = s*mid \n",
    "        \n",
    "    jk.append(I)   \n",
    "    \n",
    "jk    # value of integral for diff N"
   ]
  },
  {
   "cell_type": "code",
   "execution_count": 4,
   "metadata": {},
   "outputs": [
    {
     "data": {
      "text/plain": [
       "[3.333333333333333, 1.0, 1.3, 1.1, 1.086, 1.0141200000000001]"
      ]
     },
     "execution_count": 4,
     "metadata": {},
     "output_type": "execute_result"
    }
   ],
   "source": [
    "# Q1 (b)\n",
    "import numpy as np \n",
    "import random \n",
    "\n",
    "# most things are same as above\n",
    "\n",
    "N = [3, 10, 100, 1000, 10000, 1000000]\n",
    "\n",
    "ll = []\n",
    "\n",
    "a = 0\n",
    "b = 10\n",
    "c = 0 # counter\n",
    "\n",
    "def f(i):\n",
    "    return np.exp(-i) + (i/1000)**3 \n",
    "\n",
    "mid = 0.5*(f(a) + f(b))\n",
    "\n",
    "for i in N:\n",
    "    for j in range(1, i+1):\n",
    "        \n",
    "        alpha = random.random()\n",
    "        \n",
    "        beta = random.uniform(0,10)\n",
    "        \n",
    "        if alpha < f(beta): \n",
    "            \n",
    "            c += 1\n",
    "            \n",
    "        I = (c/i)*10\n",
    "        \n",
    "    ll.append(I)   \n",
    "ll    "
   ]
  },
  {
   "cell_type": "code",
   "execution_count": 13,
   "metadata": {},
   "outputs": [
    {
     "name": "stdout",
     "output_type": "stream",
     "text": [
      "-0.241861698026 power1 \n",
      "-0.0201900648024 power2 \n"
     ]
    },
    {
     "data": {
      "image/png": "[encoded data removed]",
      "text/plain": [
       "<matplotlib.figure.Figure at 0x2bb713f3a58>"
      ]
     },
     "metadata": {},
     "output_type": "display_data"
    },
    {
     "data": {
      "image/png": "[encoded data removed]",
      "text/plain": [
       "<matplotlib.figure.Figure at 0x2bb719badd8>"
      ]
     },
     "metadata": {},
     "output_type": "display_data"
    }
   ],
   "source": [
    "#Q1 (c)\n",
    "\n",
    "import numpy as np\n",
    "import matplotlib.pyplot as plt\n",
    "\n",
    "avalue = (np.exp(-10)*((400001*np.exp(10))-400000))/(400000) # absolute value of error\n",
    "avalue\n",
    "e1 = [x - avalue for x in jk] # abs error from trap method\n",
    "e2 = [x - avalue for x in ll] # abs error from MC method\n",
    "\n",
    "#print(e1,e2)\n",
    "\n",
    "lne1 = [np.log10(x) for x in e1] # converting to log10 to get the power\n",
    "lne2 = [np.log10(x) for x in e2] # converting to log10 to get the power\n",
    "\n",
    "\n",
    "lnN = [np.log10(x) for x in N]\n",
    "\n",
    "poly1 = np.polyfit(lnN,lne1, 1) # curve fit\n",
    "lnn_p1 = np.polyval(poly1, lnN) # evaluating value to calculate coeff\n",
    "\n",
    "poly2 = np.polyfit(lnN,lne2, 1)\n",
    "lnn_p2 = np.polyval(poly2, lnN)\n",
    "\n",
    "print(poly1[0], \"power1 \")\n",
    "print(poly2[0],\"power2 \")\n",
    "\n",
    "plt.plot(lnN, lne1)\n",
    "plt.plot(lnN, lnn_p)\n",
    "\n",
    "plt.show()\n",
    "\n",
    "\n",
    "plt.plot(lnN, lne2)\n",
    "plt.plot(lnN, lnn_p2)\n",
    "plt.show()\n",
    "\n",
    "# one of slope comes really bad due to ln 1, which comes from a random value"
   ]
  },
  {
   "cell_type": "code",
   "execution_count": 50,
   "metadata": {},
   "outputs": [
    {
     "data": {
      "image/png": "[encoded data removed]",
      "text/plain": [
       "<matplotlib.figure.Figure at 0x26ea5a6e358>"
      ]
     },
     "metadata": {},
     "output_type": "display_data"
    },
    {
     "data": {
      "text/plain": [
       "0.40000000000000002"
      ]
     },
     "execution_count": 50,
     "metadata": {},
     "output_type": "execute_result"
    }
   ],
   "source": [
    "#Q3\n",
    "import numpy as np\n",
    "import matplotlib.pyplot as plt\n",
    "\n",
    "r = np.linspace(0.1,20,200)\n",
    "o = []\n",
    "n = []\n",
    "\n",
    "def f(x): # defining the fucntion\n",
    "    return np.exp(1/x)/((1+np.exp(1/x))*x)**2\n",
    "\n",
    "for i in r:\n",
    "    o.append(f(i)) # funciton list\n",
    "    n.append(i) # creting simple x point list\n",
    "    \n",
    "\n",
    "plt.plot(n,o)\n",
    "plt.show()\n",
    "\n",
    "np.max(o)\n",
    "n[np.argmax(o)]"
   ]
  },
  {
   "cell_type": "code",
   "execution_count": 16,
   "metadata": {},
   "outputs": [
    {
     "name": "stdout",
     "output_type": "stream",
     "text": [
      "[4.8448, 5.2064, 5.344, 4.5568, 4.1472, 2.6624, 2.048]\n",
      "[4, 5, 6, 7, 8, 9, 10]\n"
     ]
    },
    {
     "data": {
      "image/png": "[encoded data removed]",
      "text/plain": [
       "<matplotlib.figure.Figure at 0x2ed10dd0c18>"
      ]
     },
     "metadata": {},
     "output_type": "display_data"
    },
    {
     "data": {
      "text/plain": [
       "array(5.339216)"
      ]
     },
     "execution_count": 16,
     "metadata": {},
     "output_type": "execute_result"
    }
   ],
   "source": [
    "# Q4\n",
    "\n",
    "import matplotlib.pyplot as plt\n",
    "import numpy as np\n",
    "from scipy.interpolate import CubicSpline\n",
    "\n",
    "it = 10000 #iterations \n",
    "b1 = []\n",
    "\n",
    "#Defining a function as we have to call it multiple times for an n dimensional sphere\n",
    "\n",
    "def vol(n):\n",
    "    c = 0\n",
    "    for i in range(it):\n",
    "        \n",
    "        p = np.random.uniform(-1.0, 1.0, n) # generating random numbers\n",
    "        \n",
    "        r = np.linalg.norm(p) # getting the norm of length\n",
    "        \n",
    "        if r < 1.0: # defining the radius to be of unit value\n",
    "            c += 1\n",
    "\n",
    "    return (2**n) * (c/it)\n",
    "\n",
    "a1 = []\n",
    "\n",
    "for i in range(4,11):  # finding the volume from dim =4 to dim =10\n",
    "    a1.append(vol(i))  # creating a list of volume\n",
    "    b1.append(i)\n",
    "\n",
    "print(a1)\n",
    "print(b1)\n",
    "\n",
    "cs = CubicSpline(b1, a1) # scipy cublic spline function\n",
    "\n",
    "plt.plot(b1,cs(b1))\n",
    "plt.show()\n",
    "\n",
    "cs(5.3) # calling the value of sphere of dim = 5.3"
   ]
  },
  {
   "cell_type": "code",
   "execution_count": 3,
   "metadata": {},
   "outputs": [
    {
     "data": {
      "image/png": "[encoded data removed]",
      "text/plain": [
       "<matplotlib.figure.Figure at 0x2ed0e9f3128>"
      ]
     },
     "metadata": {},
     "output_type": "display_data"
    }
   ],
   "source": [
    "#Q5 (a)\n",
    "import matplotlib.pyplot as plt\n",
    "\n",
    "a = []\n",
    "b = []\n",
    "\n",
    "def f(i): # defining the fucntion\n",
    "    return (1+i**2)**(-1)\n",
    "\n",
    "for i in range(-5,6):\n",
    "    a.append(f(i)) # funciton list\n",
    "    b.append(i) # creting simple x point list\n",
    "    \n",
    "\n",
    "plt.plot(b,a,\".\")\n",
    "plt.show()"
   ]
  },
  {
   "cell_type": "code",
   "execution_count": 4,
   "metadata": {},
   "outputs": [
    {
     "data": {
      "image/png": "[encoded data removed]",
      "text/plain": [
       "<matplotlib.figure.Figure at 0x2ed0fb8d860>"
      ]
     },
     "metadata": {},
     "output_type": "display_data"
    },
    {
     "name": "stdout",
     "output_type": "stream",
     "text": [
      "            10             9            8             7           6\n",
      "-2.262e-05 x  - 3.611e-20 x + 0.001267 x + 7.619e-18 x - 0.02441 x\n",
      "              5          4           3          2\n",
      " + 1.046e-16 x + 0.1974 x - 1.3e-16 x - 0.6742 x - 1.546e-16 x + 1\n"
     ]
    }
   ],
   "source": [
    "# Q5 (b)\n",
    "import numpy as np\n",
    "x = np.array(b)\n",
    "y = np.array(a)\n",
    "\n",
    "M = len(x) \n",
    "\n",
    "p = np.poly1d(0.0) \n",
    "\n",
    "for j in range(M):\n",
    "    \n",
    "    poly = np.poly1d(y[j]) \n",
    "    \n",
    "    for k in range(M):\n",
    "        \n",
    "        if k != j:  #lagrange polynomial condition for when xi != xj\n",
    "            \n",
    "            poly *= np.poly1d([1.0, -x[k]])/(x[j]-x[k]) # lagrange polynomial \n",
    "            \n",
    "    p += poly \n",
    "    \n",
    "kk = np.polyval(p, x) #evaluating the polynomial at x values, we'll use these for the plot \n",
    "\n",
    "plt.plot(x,kk,\"+\") #Lagrange fit\n",
    "\n",
    "plt.plot(b,a,\"ro\") # function fit\n",
    "\n",
    "plt.show()\n",
    "print(p) # 10 degree Lagrange polynomial"
   ]
  },
  {
   "cell_type": "code",
   "execution_count": 1,
   "metadata": {},
   "outputs": [
    {
     "ename": "NameError",
     "evalue": "name 'x' is not defined",
     "output_type": "error",
     "traceback": [
      "\u001b[1;31m---------------------------------------------------------------------------\u001b[0m",
      "\u001b[1;31mNameError\u001b[0m                                 Traceback (most recent call last)",
      "\u001b[1;32m<ipython-input-1-a48a61350409>\u001b[0m in \u001b[0;36m<module>\u001b[1;34m()\u001b[0m\n\u001b[0;32m      1\u001b[0m \u001b[1;31m#Q5 (c)\u001b[0m\u001b[1;33m\u001b[0m\u001b[1;33m\u001b[0m\u001b[0m\n\u001b[0;32m      2\u001b[0m \u001b[1;32mfrom\u001b[0m \u001b[0mscipy\u001b[0m\u001b[1;33m.\u001b[0m\u001b[0minterpolate\u001b[0m \u001b[1;32mimport\u001b[0m \u001b[0mCubicSpline\u001b[0m\u001b[1;33m\u001b[0m\u001b[0m\n\u001b[1;32m----> 3\u001b[1;33m \u001b[0mcs\u001b[0m \u001b[1;33m=\u001b[0m \u001b[0mCubicSpline\u001b[0m\u001b[1;33m(\u001b[0m\u001b[0mx\u001b[0m\u001b[1;33m,\u001b[0m \u001b[0mkk\u001b[0m\u001b[1;33m)\u001b[0m\u001b[1;33m\u001b[0m\u001b[0m\n\u001b[0m\u001b[0;32m      4\u001b[0m \u001b[0mplt\u001b[0m\u001b[1;33m.\u001b[0m\u001b[0mplot\u001b[0m\u001b[1;33m(\u001b[0m\u001b[0mx\u001b[0m\u001b[1;33m,\u001b[0m\u001b[0mcs\u001b[0m\u001b[1;33m(\u001b[0m\u001b[0mx\u001b[0m\u001b[1;33m)\u001b[0m\u001b[1;33m,\u001b[0m \u001b[1;34m\"r\"\u001b[0m\u001b[1;33m)\u001b[0m \u001b[1;31m# cubic spline fit\u001b[0m\u001b[1;33m\u001b[0m\u001b[0m\n\u001b[0;32m      5\u001b[0m \u001b[0mplt\u001b[0m\u001b[1;33m.\u001b[0m\u001b[0mplot\u001b[0m\u001b[1;33m(\u001b[0m\u001b[0mb\u001b[0m\u001b[1;33m,\u001b[0m\u001b[0ma\u001b[0m\u001b[1;33m,\u001b[0m \u001b[1;34m\"ro\"\u001b[0m\u001b[1;33m)\u001b[0m \u001b[1;31m# function fit\u001b[0m\u001b[1;33m\u001b[0m\u001b[0m\n",
      "\u001b[1;31mNameError\u001b[0m: name 'x' is not defined"
     ]
    }
   ],
   "source": [
    "#Q5 (c)\n",
    "from scipy.interpolate import CubicSpline\n",
    "cs = CubicSpline(x, kk)\n",
    "plt.plot(x,cs(x), \"r\") # cubic spline fit\n",
    "plt.plot(b,a, \"ro\") # function fit\n",
    "plt.show()"
   ]
  }
 ],
 "metadata": {
  "kernelspec": {
   "display_name": "Python 3",
   "language": "python",
   "name": "python3"
  },
  "language_info": {
   "codemirror_mode": {
    "name": "ipython",
    "version": 3
   },
   "file_extension": ".py",
   "mimetype": "text/x-python",
   "name": "python",
   "nbconvert_exporter": "python",
   "pygments_lexer": "ipython3",
   "version": "3.6.3"
  }
 },
 "nbformat": 4,
 "nbformat_minor": 2
}
